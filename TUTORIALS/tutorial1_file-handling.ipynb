{
 "cells": [
  {
   "cell_type": "markdown",
   "id": "05698196-cbe0-4693-bbe3-cecd0303f1ff",
   "metadata": {},
   "source": [
    "# Tutorial 1: File Handling for Time Resolved, Temperature-Jump SAXS Data Analysis\n",
    "\n",
    "**Package Information:**<br>\n",
    "Currently the [tr_tjump_saxs](https://gitlab.oit.duke.edu/tr_t-jump_saxs/y22-23/-/tree/main?ref_type=heads \"tr_tjump_saxs\") package only works through the Python3 command line. The full dependencies can be found on the [Henderson GitLab Page](https://gitlab.oit.duke.edu/tr_t-jump_saxs/y22-23/-/tree/main?ref_type=heads \"tr_tjump_saxs\") and the environment can be cloned from the [environment.yml file](https://gitlab.oit.duke.edu/tr_t-jump_saxs/y22-23/-/blob/main/environment.yml?ref_type=heads \"environment.yml file\"). The data analysis can be executed from an interactive Python command line such as [iPython](https://www.python.org/) or [Jupyter](https://jupyter.org/) or the code can be written in a script to run in a non-interactive mode. The preferred usage is in Jupyter Lab as this is the environment the package was developed in. Jupyter also provides a file where all code, output of code, and notes can be contained in a single file and serves a record of the data analysis performed, the code used to conduct the data analysis, and the output of the analysis. \n",
    "\n",
    "**Tutorial Information:**<br>\n",
    "This set of tutorial notebooks will cover how to use the `tr_tjump_saxs` package to analyze TR, T-Jump SAXS data and the <a href=\"https://www.science.org/doi/10.1126/sciadv.adj0396\">workflow used to study HIV-1 Envelope glycoprotein dynamics. </a> This package contains multiple modules, each containing a set of functions to accomplish a specific subtask of the TR, T-Jump SAXS data analysis workflow. Many of the functions are modular and some can be helpful for analyzing static SAXS and other data sets as well. \n",
    "\n",
    "**Package Modules:**<br>\n",
    "> 1. `file_handling`<br>\n",
    "> 2. `saxs_processing`<br>\n",
    "> 3. `saxs_qc`<br>\n",
    "> 4. `saxs_kinetics`<br>\n",
    "> 5. `saxs_modeling`<br>\n",
    "\n",
    "**Developer:** [@ScientistAsh](https://github.com/ScientistAsh \"ScientistAsh GitHub\")\n",
    "\n",
    "**Updated:** 6 February 2024\n",
    "\n",
    "# Tutorial 1 Introduction\n",
    "In this Tutorial 1 notebook, I introduce the `file_handling` module from the `tr_tjump_saxs` package. The `file_handling` module provides functions that will load or plot a single SAXS curve or a full set of SAXS curves as well as other functions to create file lists and directories for storing output data. If you find any issues with this tutorial, please create an issue on the repository GitLab page ([tr_tjump_saxs issues](https://gitlab.oit.duke.edu/tr_t-jump_saxs/y22-23/-/issues \"tr_tjump_saxs Issues\")).\n",
    "\n",
    "## Module functions:\n",
    "> `make_dir()` makes a new directory to store output. <br>\n",
    "> `make_flist()` makes a list of files. <br>\n",
    "> `load_saxs()` load a single SAXS scattering or difference curves. <br>\n",
    "> `load_set()` load a set of SAXS scattering or difference curves. <br>\n",
    "> `plot_curve()` plots a single or set of SAXS scattering or difference curves. <br>\n",
    "\n",
    "## Tutorial Files:\n",
    "\n",
    "### Data Files\n",
    "The original data used in this analysis is deposited on the [SASBDB](https://www.sasbdb.org/) with accession numbers:\n",
    "> **Static Data:** <br>\n",
    "    - *CH505 Temperature Sereies*: SASDT29, SASDT39, SASDT49, SASDT59 <br>\n",
    "    - *CH848 Temperature Series*: SASDTH9, SASDTJ9, SASDTK9, SASDTL9 <br>\n",
    "<br>\n",
    "> **T-Jump Data:** <br>\n",
    "    - *CH505 T-Jump Data*: SASDT69, SASDT79, SASDT89, SASDT99, SASDTA9, SASDTB9, SASDTC9, SASDTD9, SASDTE9, SASDTF9, SASDTG9 <br>\n",
    "     - *CH848 T-Jump Data*: SASDTM9, SASDTN9, SASDTP9, SASDTQ9, SASDTR9, SASDTS9, SASDTT9, SASDTU9, SASDTV9, SASDTW9 <br>\n",
    "<br>\n",
    "> **Static Env SOSIP Panel:** SASDTZ9, SASDU22, SASDU32, SASDU42, SASDTX9, SASDTY9 <br>\n",
    "\n",
    "Additional MD data associated with the paper can be found on [Zenodo](https://zenodo.org/records/10451687).\n",
    "\n",
    "### Output Files\n",
    "Example output is included in the [OUTPUT](https://github.com/ScientistAsh/tr_tjump_saxs/tree/main/TUTORIALS/OUTPUT/) subdirectory in the [TUTORIALS](https://github.com/ScientistAsh/tr_tjump_saxs/tree/main/TUTORIALS/) directory.  \n",
    "\n",
    "# How to Use Jupyter Notebooks\n",
    "You can execute the code directly in this notebook or create your own notebook and copy the code there.\n"
   ]
  },
  {
   "cell_type": "markdown",
   "id": "6c0a0b62-afdc-4f77-ab79-93618c4d440c",
   "metadata": {
    "tags": []
   },
   "source": [
    "<div class=\"alert alert-block alert-info\">\n",
    "    \n",
    "    <b><i class=\"fa fa-info-circle\" aria-hidden=\"true\"></i>&nbsp; Tips</b><br>\n",
    "    \n",
    "    <b>1.</b> To run the currently highlighted cell, hit the <code>shift</code> and <code>enter</code> keys at the same time.<br>\n",
    "    <b>2</b>. To get help with a specific function, place the cursor in the functions brackets and hit the <code>shift</code> and <code>tab</code> keys at the same time.\n",
    "\n",
    "</div>"
   ]
  },
  {
   "cell_type": "markdown",
   "id": "7d6d2ab2-073b-4b86-bcbc-ffe4d0a11387",
   "metadata": {},
   "source": [
    "<div class=\"alert alert-block alert-info\" style=\"background-color: white; border: 2px solid; padding: 10px\">\n",
    "    <b><i class=\"fa fa-star\" aria-hidden=\"true\"></i>&nbsp; In the Literature</b><br>\n",
    "    \n",
    "    Our <a href=\"https://www.science.org/doi/10.1126/sciadv.adj0396\">recent paper </a> in Science Advances provides an example of the type of data, the analysis procedure, and example output for this type of data analysis.  <br> \n",
    "    \n",
    "    <p style=\"text-align:center\">\n",
    "    \n",
    "</div>"
   ]
  },
  {
   "cell_type": "markdown",
   "id": "e936c595-a9f0-4387-9a6b-ba7d74e7a337",
   "metadata": {},
   "source": [
    "# Import Modules\n",
    "\n",
    "The first step is to import the necessary python packages. The dependecies will automatically be imported with the package import."
   ]
  },
  {
   "cell_type": "code",
   "execution_count": null,
   "id": "9c142b14-d63c-4ff3-805f-ded0030bbe71",
   "metadata": {
    "tags": []
   },
   "outputs": [],
   "source": [
    "# import sys to allow python to use the file browser to find files\n",
    "import sys\n",
    "\n",
    "# append the path for the tr_tjump_saxs_analysis package to the PYTHONPATH\n",
    "sys.path.append(r'../')\n",
    "\n",
    "# import CH505TF_SAXS analysis dependent packages and custom functions\n",
    "from file_handling import *"
   ]
  },
  {
   "cell_type": "markdown",
   "id": "561aed21-e782-4394-852a-6ba7a86c9743",
   "metadata": {},
   "source": [
    "<div class=\"alert alert-block alert-info\">\n",
    "    <b><i class=\"fa fa-info-circle\" aria-hidden=\"true\"></i>&nbsp; Tips</b><br>\n",
    "    Be sure that the path for the <code>tr_tjump_saxs</code> package appended to the <code>PYTHONPATH</code> matches the path to the repository on your machine.\n",
    "    </div>"
   ]
  },
  {
   "cell_type": "markdown",
   "id": "517c4e29-2620-4125-bfce-d0082dcef92d",
   "metadata": {},
   "source": [
    "# Load Data\n",
    "\n",
    "## `load_saxs()` Function \n",
    "\n",
    "### Overview\n",
    "After importing the analysis modules, we then need to load the data files. The `tr_tjump_saxs` package has 2 different options for loading SAXS data. You can load only one curve at a time with the `load_saxs()` function or you can load a full set of curves at one time with the `load_set()` function. First, we will look at how to load one curve with the `load_saxs()` function. \n",
    "\n",
    "The `load_saxs()` is best suited for loading a single SAXS scattering or difference curve. This function will automatically load all columns. The `load_set()` function is best suited for loading a set of SAXS scattering or difference curves.\n",
    "\n",
    "### Input Parameters\n",
    "There are three input parameters for this function:\n",
    "> 1. `file` indicates the file, including the full path, containing the SAXS curve. <br>\n",
    "> 2. `delim` indicates the delimitter used in the input file. This parameter is optional and has the default value ' ' (space-delimitted). <br>\n",
    "> 3. `mask` parameter indicates the number of rows that need to be skipped when loading the file. This can be used to skip rows in which a mask is applied to the data so the curve contains NaN values or to avoid importing string-type headers. Because this function loads the data as a np.array and np.arrays can only contain one data type, this function will raise an error if string-type headers are attemped to import at the same time as the SAXS scattering/difference curve. This parameter is optional and the default value is 0 (all rows imported).  <br>\n",
    "\n",
    "### Returned Values\n",
    "> 1. A numpy array with a shape determined by input data. \n",
    "\n",
    "### Raised Errors\n",
    "There are no custom errors raised by this function. If any errors are raised, follow the docs for the function indicated in the traceback. \n",
    "\n",
    "### Example 1: Basic usage"
   ]
  },
  {
   "cell_type": "code",
   "execution_count": null,
   "id": "6faa2088-9e28-4371-808b-0d0762f32154",
   "metadata": {},
   "outputs": [],
   "source": [
    "load_saxs(file='../../../TR_T-jump_SAXS_July2022/protein_20hz_set01/processedb/diff_protein_20hz_set01_1ms_118_-10us_118_Q.chi', \n",
    "          delim=' ', mask=10)"
   ]
  },
  {
   "cell_type": "markdown",
   "id": "c38c842e-d68c-4ef7-beda-caf7037da60e",
   "metadata": {},
   "source": [
    "### Example 2: Store Returned Values as Varaibles"
   ]
  },
  {
   "cell_type": "code",
   "execution_count": null,
   "id": "2f8f592f-441f-44fc-bd9b-ed5cc89eaa41",
   "metadata": {},
   "outputs": [],
   "source": [
    "curve = load_saxs(file='../../../TR_T-jump_SAXS_July2022/protein_20hz_set01/processedb/diff_protein_20hz_set01_1ms_118_-10us_118_Q.chi', \n",
    "                  delim=' ', mask=10)"
   ]
  },
  {
   "cell_type": "code",
   "execution_count": null,
   "id": "e42ae130-8b6e-440b-96d1-f96c5f8527b1",
   "metadata": {},
   "outputs": [],
   "source": [
    "curve"
   ]
  },
  {
   "cell_type": "markdown",
   "id": "f09ec6e6-177b-4756-8541-f1321ff40e0b",
   "metadata": {},
   "source": [
    "## Slicing Returned Values\n",
    "Once a curve is loaded, you will want to work with this curve. The proper slicing will be important for conducting the correct analysis. In Python the starting value for the slicing is inclusive while the slicing value for the end of the range is not. So, if you want row 50 to be the last row in the slice, than the slicing range must end at 51. Generally speaking, the scattering vector (here referred to as q) is typically stored as the first column and the scattering intensity (i) as the second column. In numpy arrays, columns and rows are 0-indexed, meaning that the first column has index 0, the second column has index 1, and so on. \n",
    "\n",
    "### Returning q values\n",
    "Since the q values are stored in the first column, you can access this column by passing 0 into the columns dimension for numpy array slicing. We would like to select all rows so we can have the full set of scattering vectors. The syntax for numpy slicing is `array[row,col]`. "
   ]
  },
  {
   "cell_type": "code",
   "execution_count": null,
   "id": "ebe8171f-f067-4312-8c7e-f8e5a4b9b4a9",
   "metadata": {},
   "outputs": [],
   "source": [
    "# To select all rows for the first column containing the scattering vectors q\n",
    "curve[:, 0]"
   ]
  },
  {
   "cell_type": "code",
   "execution_count": null,
   "id": "b318cdae-8510-41e7-9153-0b4e21c2c904",
   "metadata": {},
   "outputs": [],
   "source": [
    "# To select the first 10 rows\n",
    "curve[:10, 0]"
   ]
  },
  {
   "cell_type": "code",
   "execution_count": null,
   "id": "d4f8ff4b-3000-4f90-8605-06c6d45a9090",
   "metadata": {},
   "outputs": [],
   "source": [
    "# To select the last 10 rows\n",
    "curve[-10:, 0]"
   ]
  },
  {
   "cell_type": "markdown",
   "id": "80f5d778-e1be-47c3-a130-ea235f1a0e11",
   "metadata": {},
   "source": [
    "### Retuning i values\n",
    "Since the i values are stored in the second column, you can access this column by passing 1 into the column dimension for numpy slicing."
   ]
  },
  {
   "cell_type": "code",
   "execution_count": null,
   "id": "9d9de1cc-def0-47d2-925e-5b3a82c61a49",
   "metadata": {},
   "outputs": [],
   "source": [
    "# Select the scattering intensity values\n",
    "curve[:, 1]"
   ]
  },
  {
   "cell_type": "code",
   "execution_count": null,
   "id": "b557d012-2010-44d9-a8fd-a65cfc70ef7b",
   "metadata": {},
   "outputs": [],
   "source": [
    "# To select the first 10 rows\n",
    "curve[:10, 1]"
   ]
  },
  {
   "cell_type": "code",
   "execution_count": null,
   "id": "9a1b5b52-0df1-454e-b218-71446ff997a8",
   "metadata": {},
   "outputs": [],
   "source": [
    "# To select the last 10 rows\n",
    "curve[-10:, 1]"
   ]
  },
  {
   "cell_type": "markdown",
   "id": "fc723669-f2ea-43af-b00a-8f2cab7c8fc7",
   "metadata": {},
   "source": [
    "### Selecting a Specific Point"
   ]
  },
  {
   "cell_type": "code",
   "execution_count": null,
   "id": "ef4e84be-b194-4733-958a-979f5361dd2e",
   "metadata": {},
   "outputs": [],
   "source": [
    "# this gives an i value\n",
    "curve[500,1]"
   ]
  },
  {
   "cell_type": "code",
   "execution_count": null,
   "id": "8a46434c-1085-4f1d-9adc-0d749e55b322",
   "metadata": {},
   "outputs": [],
   "source": [
    "# this give a q value\n",
    "curve[500, 0]"
   ]
  },
  {
   "cell_type": "code",
   "execution_count": null,
   "id": "6466162f-2c28-4e28-8117-7db04a677d4a",
   "metadata": {},
   "outputs": [],
   "source": [
    "# this gives both q and i values\n",
    "curve[500, :]"
   ]
  },
  {
   "cell_type": "markdown",
   "id": "6df39f0a-45ed-4470-a9c7-d4f960f0c45c",
   "metadata": {},
   "source": [
    "### Selecting a range of points"
   ]
  },
  {
   "cell_type": "code",
   "execution_count": null,
   "id": "a81af778-ca30-4e3a-9192-21d9790794bc",
   "metadata": {},
   "outputs": [],
   "source": [
    "# both q and i values for the first 10 points\n",
    "curve[:10, :]"
   ]
  },
  {
   "cell_type": "code",
   "execution_count": null,
   "id": "9f9f68a4-7343-4065-96aa-71712484036b",
   "metadata": {},
   "outputs": [],
   "source": [
    "# rows 49-59\n",
    "curve[50:60, :]"
   ]
  },
  {
   "cell_type": "code",
   "execution_count": null,
   "id": "66837772-dd95-41ae-b11d-c9065eafa77c",
   "metadata": {
    "tags": []
   },
   "outputs": [],
   "source": [
    "# Both q and i values for every 20 points from 50 to 500\n",
    "curve[50:500:20, :]"
   ]
  },
  {
   "cell_type": "markdown",
   "id": "f6ef680d-7d88-4fc9-aa27-7e10a7d40120",
   "metadata": {},
   "source": [
    "<br>\n",
    "\n",
    "## Checking Size of Array\n",
    "It is a good idea to check the size of you data to help familiarize yourself with the data structure. There are several different ways to check the size of an array.\n",
    "\n",
    "### Get the length of the array\n",
    "This will give you the number of rows in the array. In the case of the `curve` array defined above, it will tell us how many points are in one curve. "
   ]
  },
  {
   "cell_type": "code",
   "execution_count": null,
   "id": "1ecf360e-9a7f-4608-8fc8-1f69ffbfc489",
   "metadata": {},
   "outputs": [],
   "source": [
    "len(curve)"
   ]
  },
  {
   "cell_type": "markdown",
   "id": "84a400e2-05b5-4160-82f2-36e26b97d616",
   "metadata": {},
   "source": [
    "### Get the shape of the array\n",
    "This will tell you how many dimensions the array is, how many rows are in the array, and how many columns are in the array. In the case of the 2d `curve` array there are 1908 rows, each reprsenting one point along the scattering vector, and there are 2 columns, one containing the scattering vector and one containing the scattering intensity. "
   ]
  },
  {
   "cell_type": "code",
   "execution_count": null,
   "id": "9d518b69-0104-440a-8ad0-2ff288197981",
   "metadata": {},
   "outputs": [],
   "source": [
    "curve.shape"
   ]
  },
  {
   "cell_type": "markdown",
   "id": "52243b25-fdb7-4415-a5be-e68ba93d97fb",
   "metadata": {},
   "source": [
    "### Get the size of the array\n",
    "This will tell you how many entries are in the entire array. For 2d+ dimension arrays, the reported size is determined for the flattened array. "
   ]
  },
  {
   "cell_type": "code",
   "execution_count": null,
   "id": "ae6150e4-6ab0-4cef-a9b1-b96de7905c51",
   "metadata": {},
   "outputs": [],
   "source": [
    "curve.size"
   ]
  },
  {
   "cell_type": "markdown",
   "id": "18b9749b-32f3-453b-8695-587f08e13811",
   "metadata": {},
   "source": [
    "<div class=\"alert alert-block alert-warning\">\n",
    "    \n",
    "    <i class=\"fa fa-exclamation-triangle\"></i>&nbsp; <b>Check your data structure</b><br>\n",
    "    Your data may be stored differently and it is important to make sure you understand your data structure before beginning any analysis. It is always a good idea to practice slicing on your data set to be sure you understand the data structure once it is loaded.\n",
    "    </div>\n"
   ]
  },
  {
   "cell_type": "markdown",
   "id": "f80ab99c-863d-4b1a-920a-da1df00dbfdd",
   "metadata": {},
   "source": [
    "## `load_set()` Function\n",
    "\n",
    "### Overview\n",
    "\n",
    "This function is best suited for loading a set of SAXS scattering or difference curves. \n",
    "\n",
    "### Input Parameters\n",
    "There are four input parameters for this function:\n",
    "> 1 `flist` parameter indicates the file list containg the curves to be loaded. File names should include the full path of the file.<br>\n",
    "> 2 `delim` parameter indicates the delimitter used in the input file. This parameter is optional and has the default value ' ' (space-delimitted).<br>\n",
    "> 3 `mask` parameter indicates the number of rows that need to be skipped when loading the file. This can be used to skip rows in which a mask is applied to the data so the curve contains NaN values or to avoid importing string-type headers. Because this function loads the data as a np.array and np.arrays can only contain one data type, this function will raise an error if string-type headers are attemped to import at the same time as the SAXS scattering/difference curve. This parameter is optional and the default value is 0 (all rows imported). <br>\n",
    "> 4 `err` parameter is boolean indicating the presence of a column indicating measured errors. When set to True, errors will be loaded into the returned array, This parameter is optional and the default value is `False`. <br>\n",
    "\n",
    "### Returned Values\n",
    "> 1. `data`: A list containing the scattering intensity (i) vector for the loaded curves. The curves are loaded in the same order that are in flist. <br>\n",
    "> 2. `data_arr`: A numpy array containing the scattering vector (q) and scattering intensity (i). Array has shape (n, r), where n is the number of scattering curves loaded and r is the number of entries in each loaded curve. 2 represents scattering intensity(i), for which there are r number of values in each, for each loaded curve n. The curves are loaded in the same order that are in flist. <br>\n",
    "> 3. `q`: A numpy array containing scattering vector (q) values. <br>  \n",
    "> 4. `error': A numpy array containing the experimental error for scattering intensity (i). Will be an empty array if there is no error column in the imported. <br>\n",
    "        \n",
    "### Raised Errors\n",
    "In addition to errors raised by the dependecies (see documentation for function indicated by the traceback if for this situation) this function also rasies  and `IndexError` when a column for error values is indicated but does not exist in the given files. Automatically will change the parameter to false and load the first 2 columns. \n",
    "\n",
    "## `make_flist()` Function\n",
    "\n",
    "### Overview\n",
    "The first step to load a set of SAXS curves, is to create a file list. This can be done manually, which is usually easiest if your list only contains one or two files. Alternatively, there is the `make_flist()` function. This function will automatically generate a file list given an input directory, prefix and suffix. This function is ideal for loading a set of curves, usually the reduced scattering curves, that are all in the same folder. This function will not be useful for creating files lists of files in different folders. A file list of files from different folders would have to be created using alternative methods. \n",
    "\n",
    "### Input Parameters\n",
    "> 1. The `directory` parameter indicates the directory where the scattering curves are stored and is an optional parameter with the default value being the current working directory. <br>\n",
    "> 2. The `prefix` parameter indicates the prefix of the files to be loaded. This parameter is useful when you only want to load a subset of files from the given directory. When set to None, the files will not be filtered by prefix. The `prefix` parameter is optional and has the default value of `None`.<br>\n",
    ">3. The `suffix` parameter indicates the file suffix to filter by. If set to None then no suffix filters are applied to the files. `suffix` is an optional parameter and the default value is `None`. If both `prefix` and `suffix` are `None` then all files in the given directory will be loaded. \n",
    "\n",
    "### Returned Values\n",
    "This function returns a list containing the appended files. \n",
    "\n",
    "### Raised Errors\n",
    "This function raises no custom errors. For any errors raised, see the documentation for the function indicated in the traceback. \n",
    "\n",
    "## Example 3: Basic Usage Loading Files\n",
    "### Make File List"
   ]
  },
  {
   "cell_type": "code",
   "execution_count": null,
   "id": "370f18ff-d263-493f-8153-4f4096066b54",
   "metadata": {
    "tags": []
   },
   "outputs": [],
   "source": [
    "# first, make a file list\n",
    "files = make_flist(directory='../../../TR_T-jump_SAXS_July2022/protein_20hz_set01/processedb/',\n",
    "                  prefix='diff_protein_20hz_set01_1ms_', suffix='_Q.chi')"
   ]
  },
  {
   "cell_type": "markdown",
   "id": "0bc2a42c-c472-4fcb-8038-9d79deaff18e",
   "metadata": {},
   "source": [
    "<br>\n",
    "This function automatically reports the number of files loaded. It is good to double check and make sure that the correct files are loaded. For this set, all 1ms curves from the directory passed to the `make_flist` function should be loaded. "
   ]
  },
  {
   "cell_type": "code",
   "execution_count": null,
   "id": "376f57b3-68e8-4c72-b495-39227d8e24a7",
   "metadata": {},
   "outputs": [],
   "source": [
    "# show first 5 files in file list\n",
    "files[:5]"
   ]
  },
  {
   "cell_type": "markdown",
   "id": "b48372ce-d7ee-4522-9b79-64307a9b5445",
   "metadata": {},
   "source": [
    "<br>\n",
    "\n",
    "### Sorting Files\n",
    "As you can see, 250 1ms files are loaded from the indicated directory (you can view all files by removing the slicing). Also note that the files are not necessarily in order after loading them. Functions that require files to be loaded for the analysis will automatically conduct that sorting. If you would like to sort the files, you can use the `sort()` function."
   ]
  },
  {
   "cell_type": "code",
   "execution_count": null,
   "id": "251c3dad-a331-41e8-b8bb-83fb8a5b7656",
   "metadata": {},
   "outputs": [],
   "source": [
    "files.sort()\n",
    "files[:5]"
   ]
  },
  {
   "cell_type": "markdown",
   "id": "edd15916-0178-4bb1-864e-10b927c8da42",
   "metadata": {},
   "source": [
    "### Load File List\n",
    "For the example data set, the data is comma-delimitted, a mask applied to the first 10 points, and there are no errors stored in the files. "
   ]
  },
  {
   "cell_type": "code",
   "execution_count": null,
   "id": "931249d5-d88f-40e8-889a-07129e3c414d",
   "metadata": {},
   "outputs": [],
   "source": [
    "data, data_arr, q, err = load_set(flist=files, delim=' ', mask=10, err=False)"
   ]
  },
  {
   "cell_type": "markdown",
   "id": "05e815ed-1f51-427b-bd94-59eff59f6f08",
   "metadata": {},
   "source": [
    "#### `data` list\n",
    "The `load_set` function returns one list and four arrays. `data` is returned as a list with each row containing an array of the scattering intensities from one curve. "
   ]
  },
  {
   "cell_type": "code",
   "execution_count": null,
   "id": "f0de551b-3e58-490f-b810-98a6c1189344",
   "metadata": {},
   "outputs": [],
   "source": [
    "# show first 5 rows of data\n",
    "data[:5]"
   ]
  },
  {
   "cell_type": "markdown",
   "id": "d5c03b59-c4ca-4470-b961-9b7c7621278b",
   "metadata": {},
   "source": [
    "#### `data_arr` array\n",
    "`data_arr` is the array with all of the scattering intensity values from each curve loaded as a row. This is the primary array that analysis will be conducted on going forward. "
   ]
  },
  {
   "cell_type": "code",
   "execution_count": null,
   "id": "ad30e88f-92a1-4f9f-9350-816ada6bd8d3",
   "metadata": {},
   "outputs": [],
   "source": [
    "data_arr[:5]"
   ]
  },
  {
   "cell_type": "markdown",
   "id": "3cd472a8-ce80-4a3b-8cf1-90b87dc802cb",
   "metadata": {},
   "source": [
    "#### `q` array\n",
    "The `q` array contains all the q values. For scattering curves collected during the same experiment the scattering vectors should be the same for every curve, hence only loading one q for all 250 curves (for this example). If you have difference q values you would need to construct those q arrays separately and store them as different variables to access them. "
   ]
  },
  {
   "cell_type": "code",
   "execution_count": null,
   "id": "28de60c1-4cd9-41f7-891e-a7acd3935312",
   "metadata": {},
   "outputs": [],
   "source": [
    "q[:5]"
   ]
  },
  {
   "cell_type": "markdown",
   "id": "e5c642da-669c-43a5-a938-eb69294050a2",
   "metadata": {},
   "source": [
    "#### `err` array\n",
    "The `err` array contains the errors for each curve loaded as a row. This array will be empty if `err=Fasle` is passed to the `load_set()`function"
   ]
  },
  {
   "cell_type": "code",
   "execution_count": null,
   "id": "81a8e9f1-cbf1-43cc-bf06-9ded7da3f9a9",
   "metadata": {},
   "outputs": [],
   "source": [
    "err"
   ]
  },
  {
   "cell_type": "markdown",
   "id": "5eff8fcf-c9ae-4626-b1de-642cadd1655b",
   "metadata": {},
   "source": [
    "## Example 4: Looping over Multiple Time Delays\n",
    "When analyzing time-resolved SAXS data, it is very helpful to be able to loop over multiple data sets that represent different time points at one time. Depending on memory limitations, you can loop over files lists or you can loop over the already loaded array elements. "
   ]
  },
  {
   "cell_type": "code",
   "execution_count": null,
   "id": "38be3e5e-98c4-4156-aea9-ef33c1fb7818",
   "metadata": {},
   "outputs": [],
   "source": [
    "# define time delays as a list of strings\n",
    "times = ['10us', '50us', '100us', '500us', '1ms']\n",
    "\n",
    "# loop over time delay, make a file lists, and load the curve set\n",
    "for t in times:\n",
    "    print('Loading ' + str(t) + ' curves')\n",
    "    files = make_flist(directory='../../../TR_T-jump_SAXS_July2022/protein_20hz_set01/processedb/',\n",
    "                  prefix='diff_protein_20hz_set01_' + str(t), suffix='_Q.chi')\n",
    "    data, data_arr, q, err = load_set(flist=files, delim=' ', mask=10, err=False)\n",
    "print('Done loading data!')"
   ]
  },
  {
   "cell_type": "markdown",
   "id": "575fafb4-83f5-47bd-8117-fee45b7a461e",
   "metadata": {},
   "source": [
    "## Example 5: Looping Over Data Arrays\n",
    "For some analyses such as bootstrapping (covered in later tutorials), loading files over and over again can cause isues with memory handling. And alternative to looping over file lists is to load all the data to analyze, and then loop over the arrays. "
   ]
  },
  {
   "cell_type": "code",
   "execution_count": null,
   "id": "0f2f08e6-8b6c-4413-8ff7-59d5c3acb98e",
   "metadata": {},
   "outputs": [],
   "source": [
    "# Create an empty list to store the resampled data\n",
    "all_data = []\n",
    "\n",
    "# load protein curves and remove outliers\n",
    "prot_curves = []    \n",
    "for t in times:\n",
    "    \n",
    "    # protein average curve\n",
    "    # load difference files for iterative chi test\n",
    "    files = make_flist(directory='../../../TR_T-jump_SAXS_July2022/protein_20hz_set01/processedb/',\n",
    "                  prefix='diff_protein_20hz_set01_' + str(t), suffix='_Q.chi')\n",
    "    \n",
    "    # get length of file list before outliers are removed\n",
    "    print('Number of ' + str(t) + ' files loaded: ' + str(len(files)))\n",
    "    \n",
    "    # sort files\n",
    "    files.sort()\n",
    "        \n",
    "    # load difference curves\n",
    "    data, array, q, err = load_set(flist=files, delim=' ', mask=10, err=False)\n",
    "        \n",
    "    # append array to prot curves\n",
    "    all_data.append(array)"
   ]
  },
  {
   "cell_type": "markdown",
   "id": "ea76578b-b38c-4cb5-9619-83e331805662",
   "metadata": {},
   "source": [
    "<br>\n",
    "\n",
    "The result is a list of arrays, with each array representing a time delay and each row within each array representing a single curve in that time delay. The length of the `times` list should match the length of the `all_data` list"
   ]
  },
  {
   "cell_type": "code",
   "execution_count": null,
   "id": "2dc4724d-6dd1-4c18-85b8-519345063436",
   "metadata": {},
   "outputs": [],
   "source": [
    "# look at data structure\n",
    "all_data"
   ]
  },
  {
   "cell_type": "code",
   "execution_count": null,
   "id": "2a0d1166-c60d-4a1c-ae52-7288c2b7b210",
   "metadata": {},
   "outputs": [],
   "source": [
    "# check length of all_data\n",
    "len(all_data)"
   ]
  },
  {
   "cell_type": "code",
   "execution_count": null,
   "id": "d6fa9418-b980-402d-95c2-d03368f09cb6",
   "metadata": {},
   "outputs": [],
   "source": [
    "#check length of times\n",
    "len(times)"
   ]
  },
  {
   "cell_type": "markdown",
   "id": "d446387f-7e06-4442-8184-3aa573502837",
   "metadata": {},
   "source": [
    "<br>\n",
    "\n",
    "To access a specific time delay in the `all_data` list use basic slicing. "
   ]
  },
  {
   "cell_type": "code",
   "execution_count": null,
   "id": "5373b6af-ddad-42c6-a17f-3dce85a948fd",
   "metadata": {},
   "outputs": [],
   "source": [
    "# get the first time delay\n",
    "all_data[0]"
   ]
  },
  {
   "cell_type": "markdown",
   "id": "17514b8d-df9b-408b-a96e-daf9565f6597",
   "metadata": {},
   "source": [
    "<br>\n",
    "\n",
    "To access a specific curves in the `all_data` list use basic slicing. "
   ]
  },
  {
   "cell_type": "code",
   "execution_count": null,
   "id": "8353cd31-86fd-4c24-91c9-006ceac6f990",
   "metadata": {},
   "outputs": [],
   "source": [
    "all_data[0][0]"
   ]
  },
  {
   "cell_type": "markdown",
   "id": "09d8753a-0507-4116-8682-2d0cb3107487",
   "metadata": {},
   "source": [
    "<div class=\"alert alert-block alert-success\">\n",
    "    \n",
    "    <i class=\"fa fa-check-circle\"></i>&nbsp; <b>Congratulations!</b><br>\n",
    "       You completed the first tutorial! Continue with <a href=\"https://github.com/ScientistAsh/tr_tjump_saxs/blob/main/TUTORIALS/tutorial2_plotting.ipynb\">Tutorial 2</a> to learn about visualizing SAXS curves.\n",
    "    </div>"
   ]
  }
 ],
 "metadata": {
  "kernelspec": {
   "display_name": "Python 3",
   "language": "python",
   "name": "python3"
  },
  "language_info": {
   "codemirror_mode": {
    "name": "ipython",
    "version": 3
   },
   "file_extension": ".py",
   "mimetype": "text/x-python",
   "name": "python",
   "nbconvert_exporter": "python",
   "pygments_lexer": "ipython3",
   "version": "3.8.8"
  }
 },
 "nbformat": 4,
 "nbformat_minor": 5
}

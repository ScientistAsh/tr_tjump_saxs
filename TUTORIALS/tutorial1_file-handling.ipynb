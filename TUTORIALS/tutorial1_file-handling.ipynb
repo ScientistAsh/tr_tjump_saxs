{
 "cells": [
  {
   "cell_type": "markdown",
   "id": "05698196-cbe0-4693-bbe3-cecd0303f1ff",
   "metadata": {},
   "source": [
    "# Tutorial 1: File Handling for Time Resolved, Temperature-Jump SAXS Data Analysis\n",
    "\n",
    "**Package Information:**<br>\n",
    "Currently the [tr_tjump_saxs](https://github.com/ScientistAsh/tr_tjump_saxs/ \"tr_tjump_saxs package\") package only works through the Python3 command line. The full dependencies can be found on the [GitHub Page](https://github.com/ScientistAsh/tr_tjump_saxs/issues \"tr_tjump_saxs\") and the environment can be cloned from the [environment.yml file](https://github.com/ScientistAsh/tr_tjump_saxs/blob/main/environment.yml). The data analysis can be executed from an interactive Python command line such as [iPython](https://www.python.org/) or [Jupyter](https://jupyter.org/) or the code can be written in a script to run in a non-interactive mode. The preferred usage is in Jupyter Lab as this is the environment the package was developed in. Jupyter also provides a file where all code and output of code and notes can be contained in a single file and serves as a record of the data analysis performed, the code used to conduct the data analysis, and the output of the analysis. \n",
    "\n",
    "**Tutorial Information:**<br>\n",
    "This set of tutorial notebooks will cover how to use the `tr_tjump_saxs` package to analyze TR, T-Jump SAXS data and the <a href=\"https://www.biorxiv.org/content/10.1101/2023.05.17.541130v1\">workflow used to study HIV-1 Envelope glycoprotein dynamics. </a> This package contains multiple modules, each containing a set of functions to accomplish a specific subtask of the TR, T-Jump SAXS data analysis workflow. Many of the functions are modular and some can be helpful for analyzing static SAXS and other data sets as well. \n",
    "\n",
    "**Package Modules:**<br>\n",
    "> 1. `file_handling`<br>\n",
    "> 2. `saxs_processing`<br>\n",
    "> 3. `saxs_qc`<br>\n",
    "> 4. `saxs_kinetics`<br>\n",
    "> 5. `saxs_modeling`<br>\n",
    "\n",
    "**Developer:** [@ScientistAsh](https://github.com/ScientistAsh \"ScientistAsh GitHub\")\n",
    "\n",
    "**Updated:** 23 January 2024\n",
    "\n",
    "# Tutorial 1 Introduction\n",
    "In this Tutorial 1 notebook, I introduce the `file_handling` module from the `tr_tjump_saxs` package. The `file_handling` module provides functions that will load or plot a single SAXS curve or a full set of SAXS curves as well as other functions to create file lists and directories for storing output data. If you find any issues with this tutorial, please create an issue on the repository GitHub page ([tr_tjump_saxs](https://github.com/ScientistAsh/tr_tjump_saxs/issues)).\n",
    "\n",
    "## Module functions:\n",
    "> `make_dir()` makes a new directory to store output. <br>\n",
    "> `make_flist()` makes a list of files. <br>\n",
    "> `load_saxs()` load a single SAXS scattering or difference curves. <br>\n",
    "> `load_set()` load a set of SAXS scattering or difference curves. <br>\n",
    "> `plot_curve()` plots a single or set of SAXS scattering or difference curves. <br>\n",
    "\n",
    "\n",
    "## Tutorial Files:\n",
    "\n",
    "### Data Files\n",
    "*COMING SOON*\n",
    "\n",
    "### Output Files\n",
    "Example output is included in the [OUTPUT](https://github.com/ScientistAsh/tr_tjump_saxs/tree/main/TUTORIALShttps://github.com/ScientistAsh/tr_tjump_saxs/tree/main/TUTORIALS/OUTPUT/) subdirectory in the [TUTORIALS](https://github.com/ScientistAsh/tr_tjump_saxs/tree/main/TUTORIALShttps://github.com/ScientistAsh/tr_tjump_saxs/tree/main/TUTORIALS/) directory. \n",
    "\n",
    "# How to Use Jupyter Notebooks\n",
    "You can execute the code directly in this notebook or create your own notebook and copy the code there."
   ]
  },
  {
   "cell_type": "markdown",
   "id": "6c0a0b62-afdc-4f77-ab79-93618c4d440c",
   "metadata": {
    "tags": []
   },
   "source": [
    "<div class=\"alert alert-block alert-info\">\n",
    "    \n",
    "    <b><i class=\"fa fa-info-circle\" aria-hidden=\"true\"></i>&nbsp; Tips</b><br>\n",
    "    \n",
    "    <b>1.</b> To run the currently highlighted cell, hit the <code>shift</code> and <code>enter</code> keys at the same time.<br>\n",
    "    <b>2</b>. To get help with a specific function, place the cursor in the functions brackets and hit the <code>shift</code> and <code>tab</code> keys at the same time.\n",
    "\n",
    "</div>"
   ]
  },
  {
   "cell_type": "markdown",
   "id": "7d6d2ab2-073b-4b86-bcbc-ffe4d0a11387",
   "metadata": {},
   "source": [
    "<div class=\"alert alert-block alert-info\" style=\"background-color: white; border: 2px solid; padding: 10px\">\n",
    "    <b><i style=\"color: #1f77b4;\">&#9733;</i>&nbsp; In the Literature</b><br>\n",
    "    \n",
    "    Our <a href=\"https://www.biorxiv.org/content/10.1101/2023.05.17.541130v1\">recent paper </a> on BioArxiv provides an example of the type of data, the analysis procedure, and example output for this type of data analysis.  <br> \n",
    "    \n",
    "</div>"
   ]
  },
  {
   "cell_type": "markdown",
   "id": "e936c595-a9f0-4387-9a6b-ba7d74e7a337",
   "metadata": {},
   "source": [
    "# Step 1: Import Modules\n",
    "\n",
    "The first step is to import the necessary python packages. The dependecies will automatically be imported with the package import."
   ]
  },
  {
   "cell_type": "code",
   "execution_count": 1,
   "id": "9c142b14-d63c-4ff3-805f-ded0030bbe71",
   "metadata": {
    "tags": []
   },
   "outputs": [],
   "source": [
    "# import sys to allow python to use the file browser to find files\n",
    "import sys\n",
    "\n",
    "# append the path for the tr_tjump_saxs_analysis package to the PYTHONPATH\n",
    "sys.path.append(r'../')\n",
    "\n",
    "# import CH505TF_SAXS analysis dependent packages and custom functions\n",
    "from file_handling import *"
   ]
  },
  {
   "cell_type": "markdown",
   "id": "561aed21-e782-4394-852a-6ba7a86c9743",
   "metadata": {},
   "source": [
    "<div class=\"alert alert-block alert-info\">\n",
    "    <b><i class=\"fa fa-info-circle\" aria-hidden=\"true\"></i>&nbsp; Tips</b><br>\n",
    "    Be sure that the path for the <code>tr_tjump_saxs</code> package appended to the <code>PYTHONPATH</code> matches the path to the repository on your machine.\n",
    "    </div>"
   ]
  },
  {
   "cell_type": "markdown",
   "id": "517c4e29-2620-4125-bfce-d0082dcef92d",
   "metadata": {},
   "source": [
    "# Step 2: Load Data\n",
    "\n",
    "## Step 2.1: `load_saxs()` Function \n",
    "\n",
    "### 2.1.1: Overview\n",
    "After importing the analysis modules, we then need to load the data files. The `tr_tjump_saxs` package has 2 different options for loading SAXS data. You can load only one curve at a time with the `load_saxs()` function or you can load a full set of curves at one time with the `load_set()` function. First, we will look at how to load one curve with the `load_saxs()` function. \n",
    "\n",
    "The `load_saxs()` is best suited for loading a single SAXS scattering or difference curve. This function will automatically load all columns. The `load_set()` function is best suited for loading a set of SAXS scattering or difference curves.\n",
    "\n",
    "### 2.1.2: Input Parameters\n",
    "There are three input parameters for this function:\n",
    "> 1. `file` indicates the file, including the full path, containing the SAXS curve. <br>\n",
    "> 2. `delim` indicates the delimitter used in the input file. This parameter is optional and has the default value ' ' (space-delimitted). <br>\n",
    "> 3. `mask` parameter indicates the number of rows that need to be skipped when loading the file. This can be used to skip rows in which a mask is applied to the data so the curve contains NaN values or to avoid importing string-type headers. Because this function loads the data as a np.array and np.arrays can only contain one data type, this function will raise an error if string-type headers are attemped to import at the same time as the SAXS scattering/difference curve. This parameter is optional and the default value is 0 (all rows imported).  <br>\n",
    "\n",
    "### 2.1.3: Returned Values\n",
    "> 1. A numpy array with a shape determined by input data. \n",
    "\n",
    "### 2.1.4 Raised Errors\n",
    "There are no custom errors raised by this function. If any errors are raised, follow the docs for the function indicated in the traceback. \n",
    "\n",
    "### 2.1.5: Example 1: Basic usage"
   ]
  },
  {
   "cell_type": "code",
   "execution_count": 2,
   "id": "6faa2088-9e28-4371-808b-0d0762f32154",
   "metadata": {},
   "outputs": [
    {
     "data": {
      "text/plain": [
       "array([[ 0.0165888 , -0.03090488],\n",
       "       [ 0.0180313 , -0.03348683],\n",
       "       [ 0.01947379, -0.02152597],\n",
       "       ...,\n",
       "       [ 2.56431318,  0.00519093],\n",
       "       [ 2.56546711,  0.00544712],\n",
       "       [ 2.56662079,  0.00526119]])"
      ]
     },
     "execution_count": 2,
     "metadata": {},
     "output_type": "execute_result"
    }
   ],
   "source": [
    "load_saxs(file='../../../TR_T-jump_SAXS_July2022/protein_20hz_set01/processedb/diff_protein_20hz_set01_1ms_118_-10us_118_Q.chi', \n",
    "          delim=' ', mask=10)"
   ]
  },
  {
   "cell_type": "markdown",
   "id": "c38c842e-d68c-4ef7-beda-caf7037da60e",
   "metadata": {},
   "source": [
    "## 2.2: Example 2: Store Returned Values as Varaibles"
   ]
  },
  {
   "cell_type": "code",
   "execution_count": 3,
   "id": "2f8f592f-441f-44fc-bd9b-ed5cc89eaa41",
   "metadata": {},
   "outputs": [],
   "source": [
    "curve = load_saxs(file='../../../TR_T-jump_SAXS_July2022/protein_20hz_set01/processedb/diff_protein_20hz_set01_1ms_118_-10us_118_Q.chi', \n",
    "                  delim=' ', mask=10)"
   ]
  },
  {
   "cell_type": "code",
   "execution_count": 4,
   "id": "e42ae130-8b6e-440b-96d1-f96c5f8527b1",
   "metadata": {},
   "outputs": [
    {
     "data": {
      "text/plain": [
       "array([[ 0.0165888 , -0.03090488],\n",
       "       [ 0.0180313 , -0.03348683],\n",
       "       [ 0.01947379, -0.02152597],\n",
       "       ...,\n",
       "       [ 2.56431318,  0.00519093],\n",
       "       [ 2.56546711,  0.00544712],\n",
       "       [ 2.56662079,  0.00526119]])"
      ]
     },
     "execution_count": 4,
     "metadata": {},
     "output_type": "execute_result"
    }
   ],
   "source": [
    "curve"
   ]
  },
  {
   "cell_type": "markdown",
   "id": "f09ec6e6-177b-4756-8541-f1321ff40e0b",
   "metadata": {},
   "source": [
    "## 2.3: Slicing Returned Values\n",
    "Once a curve is loaded, you will want to work with this curve. The proper slicing will be important for conducting the correct analysis. In Python the starting value for the slicing is inclusive while the slicing value for the end of the range is not. So, if you want row 50 to be the last row in the slice, than the slicing range must end at 51. Generally speaking, the scattering vector (here referred to as q) is typically stored as the first column and the scattering intensity (i) as the second column. In numpy arrays, columns and rows are 0-indexed, meaning that the first column has index 0, the second column has index 1, and so on. \n",
    "\n",
    "### 2.3.1: Returning q values\n",
    "Since the q values are stored in the first column, you can access this column by passing 0 into the columns dimension for numpy array slicing. We would like to select all rows so we can have the full set of scattering vectors. The syntax for numpy slicing is `array[row,col]`. "
   ]
  },
  {
   "cell_type": "code",
   "execution_count": 5,
   "id": "ebe8171f-f067-4312-8c7e-f8e5a4b9b4a9",
   "metadata": {},
   "outputs": [
    {
     "data": {
      "text/plain": [
       "array([0.0165888 , 0.0180313 , 0.01947379, ..., 2.56431318, 2.56546711,\n",
       "       2.56662079])"
      ]
     },
     "execution_count": 5,
     "metadata": {},
     "output_type": "execute_result"
    }
   ],
   "source": [
    "# To select all rows for the first column containing the scattering vectors q\n",
    "curve[:, 0]"
   ]
  },
  {
   "cell_type": "code",
   "execution_count": 6,
   "id": "b318cdae-8510-41e7-9153-0b4e21c2c904",
   "metadata": {},
   "outputs": [
    {
     "data": {
      "text/plain": [
       "array([0.0165888 , 0.0180313 , 0.01947379, 0.02091628, 0.02235877,\n",
       "       0.02380125, 0.02524373, 0.02668621, 0.02812868, 0.02957115])"
      ]
     },
     "execution_count": 6,
     "metadata": {},
     "output_type": "execute_result"
    }
   ],
   "source": [
    "# To select the first 10 rows\n",
    "curve[:10, 0]"
   ]
  },
  {
   "cell_type": "code",
   "execution_count": 7,
   "id": "d4f8ff4b-3000-4f90-8605-06c6d45a9090",
   "metadata": {},
   "outputs": [
    {
     "data": {
      "text/plain": [
       "array([2.55622892, 2.55738454, 2.55853992, 2.55969506, 2.56084996,\n",
       "       2.56200461, 2.56315902, 2.56431318, 2.56546711, 2.56662079])"
      ]
     },
     "execution_count": 7,
     "metadata": {},
     "output_type": "execute_result"
    }
   ],
   "source": [
    "# To select the last 10 rows\n",
    "curve[-10:, 0]"
   ]
  },
  {
   "cell_type": "markdown",
   "id": "80f5d778-e1be-47c3-a130-ea235f1a0e11",
   "metadata": {},
   "source": [
    "### 2.3.2: Retuning i values\n",
    "Since the i values are stored in the second column, you can access this column by passing 1 into the column dimension for numpy slicing."
   ]
  },
  {
   "cell_type": "code",
   "execution_count": 8,
   "id": "9d9de1cc-def0-47d2-925e-5b3a82c61a49",
   "metadata": {},
   "outputs": [
    {
     "data": {
      "text/plain": [
       "array([-0.03090488, -0.03348683, -0.02152597, ...,  0.00519093,\n",
       "        0.00544712,  0.00526119])"
      ]
     },
     "execution_count": 8,
     "metadata": {},
     "output_type": "execute_result"
    }
   ],
   "source": [
    "# Select the scattering intensity values\n",
    "curve[:, 1]"
   ]
  },
  {
   "cell_type": "code",
   "execution_count": 9,
   "id": "b557d012-2010-44d9-a8fd-a65cfc70ef7b",
   "metadata": {},
   "outputs": [
    {
     "data": {
      "text/plain": [
       "array([-0.03090488, -0.03348683, -0.02152597, -0.02506549, -0.02073535,\n",
       "       -0.01621347, -0.00448493, -0.00072649, -0.0067411 , -0.0105099 ])"
      ]
     },
     "execution_count": 9,
     "metadata": {},
     "output_type": "execute_result"
    }
   ],
   "source": [
    "# To select the first 10 rows\n",
    "curve[:10, 1]"
   ]
  },
  {
   "cell_type": "code",
   "execution_count": 10,
   "id": "9a1b5b52-0df1-454e-b218-71446ff997a8",
   "metadata": {},
   "outputs": [
    {
     "data": {
      "text/plain": [
       "array([0.00503579, 0.00522703, 0.00523437, 0.00591476, 0.00580309,\n",
       "       0.0054424 , 0.00537814, 0.00519093, 0.00544712, 0.00526119])"
      ]
     },
     "execution_count": 10,
     "metadata": {},
     "output_type": "execute_result"
    }
   ],
   "source": [
    "# To select the last 10 rows\n",
    "curve[-10:, 1]"
   ]
  },
  {
   "cell_type": "markdown",
   "id": "fc723669-f2ea-43af-b00a-8f2cab7c8fc7",
   "metadata": {},
   "source": [
    "### 2.3.3: Selecting a Specific Point"
   ]
  },
  {
   "cell_type": "code",
   "execution_count": 11,
   "id": "ef4e84be-b194-4733-958a-979f5361dd2e",
   "metadata": {},
   "outputs": [
    {
     "data": {
      "text/plain": [
       "0.002746459101102716"
      ]
     },
     "execution_count": 11,
     "metadata": {},
     "output_type": "execute_result"
    }
   ],
   "source": [
    "# this gives an i value\n",
    "curve[500,1]"
   ]
  },
  {
   "cell_type": "code",
   "execution_count": 12,
   "id": "8a46434c-1085-4f1d-9adc-0d749e55b322",
   "metadata": {},
   "outputs": [
    {
     "data": {
      "text/plain": [
       "0.733550213392751"
      ]
     },
     "execution_count": 12,
     "metadata": {},
     "output_type": "execute_result"
    }
   ],
   "source": [
    "# this give a q value\n",
    "curve[500, 0]"
   ]
  },
  {
   "cell_type": "code",
   "execution_count": 13,
   "id": "6466162f-2c28-4e28-8117-7db04a677d4a",
   "metadata": {},
   "outputs": [
    {
     "data": {
      "text/plain": [
       "array([0.73355021, 0.00274646])"
      ]
     },
     "execution_count": 13,
     "metadata": {},
     "output_type": "execute_result"
    }
   ],
   "source": [
    "# this gives both q and i values\n",
    "curve[500, :]"
   ]
  },
  {
   "cell_type": "markdown",
   "id": "6df39f0a-45ed-4470-a9c7-d4f960f0c45c",
   "metadata": {},
   "source": [
    "### 2.3.4: Selecting a range of points"
   ]
  },
  {
   "cell_type": "code",
   "execution_count": 14,
   "id": "a81af778-ca30-4e3a-9192-21d9790794bc",
   "metadata": {},
   "outputs": [
    {
     "data": {
      "text/plain": [
       "array([[ 0.0165888 , -0.03090488],\n",
       "       [ 0.0180313 , -0.03348683],\n",
       "       [ 0.01947379, -0.02152597],\n",
       "       [ 0.02091628, -0.02506549],\n",
       "       [ 0.02235877, -0.02073535],\n",
       "       [ 0.02380125, -0.01621347],\n",
       "       [ 0.02524373, -0.00448493],\n",
       "       [ 0.02668621, -0.00072649],\n",
       "       [ 0.02812868, -0.0067411 ],\n",
       "       [ 0.02957115, -0.0105099 ]])"
      ]
     },
     "execution_count": 14,
     "metadata": {},
     "output_type": "execute_result"
    }
   ],
   "source": [
    "# both q and i values for the first 10 points\n",
    "curve[:10, :]"
   ]
  },
  {
   "cell_type": "code",
   "execution_count": 15,
   "id": "9f9f68a4-7343-4065-96aa-71712484036b",
   "metadata": {},
   "outputs": [
    {
     "data": {
      "text/plain": [
       "array([[ 0.08870676,  0.00107343],\n",
       "       [ 0.0901489 ,  0.00200134],\n",
       "       [ 0.09159102,  0.00272959],\n",
       "       [ 0.09303313,  0.00092593],\n",
       "       [ 0.09447523, -0.00013478],\n",
       "       [ 0.09591731,  0.00071667],\n",
       "       [ 0.09735939,  0.00083319],\n",
       "       [ 0.09880145,  0.00209357],\n",
       "       [ 0.10024349,  0.00203993],\n",
       "       [ 0.10168553,  0.00268967]])"
      ]
     },
     "execution_count": 15,
     "metadata": {},
     "output_type": "execute_result"
    }
   ],
   "source": [
    "# rows 49-59\n",
    "curve[50:60, :]"
   ]
  },
  {
   "cell_type": "code",
   "execution_count": 16,
   "id": "66837772-dd95-41ae-b11d-c9065eafa77c",
   "metadata": {
    "tags": []
   },
   "outputs": [
    {
     "data": {
      "text/plain": [
       "array([[0.08870676, 0.00107343],\n",
       "       [0.11754694, 0.00082508],\n",
       "       [0.14638078, 0.00275741],\n",
       "       [0.17520675, 0.00217458],\n",
       "       [0.20402328, 0.00300421],\n",
       "       [0.23282883, 0.00122434],\n",
       "       [0.26162187, 0.00155211],\n",
       "       [0.29040085, 0.00261061],\n",
       "       [0.31916425, 0.00141605],\n",
       "       [0.34791052, 0.00205588],\n",
       "       [0.37663816, 0.00221539],\n",
       "       [0.40534564, 0.00222218],\n",
       "       [0.43403145, 0.00150267],\n",
       "       [0.46269408, 0.00264272],\n",
       "       [0.49133204, 0.00272109],\n",
       "       [0.51994384, 0.00240577],\n",
       "       [0.548528  , 0.00207098],\n",
       "       [0.57708303, 0.00260851],\n",
       "       [0.60560748, 0.00279587],\n",
       "       [0.63409989, 0.00296476],\n",
       "       [0.66255881, 0.00230974],\n",
       "       [0.69098281, 0.00297819],\n",
       "       [0.71937046, 0.00246963]])"
      ]
     },
     "execution_count": 16,
     "metadata": {},
     "output_type": "execute_result"
    }
   ],
   "source": [
    "# Both q and i values for every 20 points from 50 to 500\n",
    "curve[50:500:20, :]"
   ]
  },
  {
   "cell_type": "markdown",
   "id": "f6ef680d-7d88-4fc9-aa27-7e10a7d40120",
   "metadata": {},
   "source": [
    "<br>\n",
    "\n",
    "## 2.4: Checking Size of Array\n",
    "It is a good idea to check the size of you data to help familiarize yourself with the data structure. There are several different ways to check the size of an array.\n",
    "\n",
    "### 2.4.1: Get the length of the array\n",
    "This will give you the number of rows in the array. In the case of the `curve` array defined above, it will tell us how many points are in one curve. "
   ]
  },
  {
   "cell_type": "code",
   "execution_count": 17,
   "id": "1ecf360e-9a7f-4608-8fc8-1f69ffbfc489",
   "metadata": {},
   "outputs": [
    {
     "data": {
      "text/plain": [
       "1908"
      ]
     },
     "execution_count": 17,
     "metadata": {},
     "output_type": "execute_result"
    }
   ],
   "source": [
    "len(curve)"
   ]
  },
  {
   "cell_type": "markdown",
   "id": "84a400e2-05b5-4160-82f2-36e26b97d616",
   "metadata": {},
   "source": [
    "### 2.4.2: Get the shape of the array\n",
    "This will tell you how many dimensions the array is, how many rows are in the array, and how many columns are in the array. In the case of the 2d `curve` array there are 1908 rows, each reprsenting one point along the scattering vector, and there are 2 columns, one containing the scattering vector and one containing the scattering intensity. "
   ]
  },
  {
   "cell_type": "code",
   "execution_count": 18,
   "id": "9d518b69-0104-440a-8ad0-2ff288197981",
   "metadata": {},
   "outputs": [
    {
     "data": {
      "text/plain": [
       "(1908, 2)"
      ]
     },
     "execution_count": 18,
     "metadata": {},
     "output_type": "execute_result"
    }
   ],
   "source": [
    "curve.shape"
   ]
  },
  {
   "cell_type": "markdown",
   "id": "52243b25-fdb7-4415-a5be-e68ba93d97fb",
   "metadata": {},
   "source": [
    "### 2.4.3: Get the size of the array\n",
    "This will tell you how many entries are in the entire array. For 2d+ dimension arrays, the reported size is determined for the flattened array. "
   ]
  },
  {
   "cell_type": "code",
   "execution_count": 19,
   "id": "ae6150e4-6ab0-4cef-a9b1-b96de7905c51",
   "metadata": {},
   "outputs": [
    {
     "data": {
      "text/plain": [
       "3816"
      ]
     },
     "execution_count": 19,
     "metadata": {},
     "output_type": "execute_result"
    }
   ],
   "source": [
    "curve.size"
   ]
  },
  {
   "cell_type": "markdown",
   "id": "18b9749b-32f3-453b-8695-587f08e13811",
   "metadata": {},
   "source": [
    "<div class=\"alert alert-block alert-warning\">\n",
    "    \n",
    "    <i class=\"fa fa-exclamation-triangle\"></i>&nbsp; <b>Check your data structure</b><br>\n",
    "    Your data may be stored differently and it is important to make sure you understand your data structure before beginning any analysis. It is always a good idea to practice slicing on your data set to be sure you understand the data structure once it is loaded.\n",
    "    </div>\n"
   ]
  },
  {
   "cell_type": "markdown",
   "id": "f80ab99c-863d-4b1a-920a-da1df00dbfdd",
   "metadata": {},
   "source": [
    "## 2.5 `load_set()` Function\n",
    "\n",
    "### 2.5.1: Overview\n",
    "\n",
    "This function is best suited for loading a set of SAXS scattering or difference curves. \n",
    "\n",
    "### 2.5.2: Input Parameters\n",
    "There are four input parameters for this function:\n",
    "> 1 `flist` parameter indicates the file list containg the curves to be loaded. File names should include the full path of the file.<br>\n",
    "> 2 `delim` parameter indicates the delimitter used in the input file. This parameter is optional and has the default value ' ' (space-delimitted).<br>\n",
    "> 3 `mask` parameter indicates the number of rows that need to be skipped when loading the file. This can be used to skip rows in which a mask is applied to the data so the curve contains NaN values or to avoid importing string-type headers. Because this function loads the data as a np.array and np.arrays can only contain one data type, this function will raise an error if string-type headers are attemped to import at the same time as the SAXS scattering/difference curve. This parameter is optional and the default value is 0 (all rows imported). <br>\n",
    "> 4 `err` parameter is boolean indicating the presence of a column indicating measured errors. When set to True, errors will be loaded into the returned array, This parameter is optional and the default value is `False`. <br>\n",
    "\n",
    "### 2.5.3: Returned Values\n",
    "> 1. `data`: A list containing the scattering intensity (i) vector for the loaded curves. The curves are loaded in the same order that are in flist. <br>\n",
    "> 2. `data_arr`: A numpy array containing the scattering vector (q) and scattering intensity (i). Array has shape (n, r), where n is the number of scattering curves loaded and r is the number of entries in each loaded curve. 2 represents scattering intensity(i), for which there are r number of values in each, for each loaded curve n. The curves are loaded in the same order that are in flist. <br>\n",
    "> 3. `q`: A numpy array containing scattering vector (q) values. <br>  \n",
    "> 4. `error': A numpy array containing the experimental error for scattering intensity (i). Will be an empty array if there is no error column in the imported. <br>\n",
    "        \n",
    "### 2.5.4: Raised Errors\n",
    "In addition to errors raised by the dependecies (see documentation for function indicated by the traceback if for this situation) this function also rasies  and `IndexError` when a column for error values is indicated but does not exist in the given files. Automatically will change the parameter to false and load the first 2 columns. \n",
    "\n",
    "## 2.6 `make_flist()` Function\n",
    "\n",
    "### 2.6.1: Overview\n",
    "The first step to load a set of SAXS curves, is to create a file list. This can be done manually, which is usually easiest if your list only contains one or two files. Alternatively, there is the `make_flist()` function. This function will automatically generate a file list given an input directory, prefix and suffix. This function is ideal for loading a set of curves, usually the reduced scattering curves, that are all in the same folder. This function will not be useful for creating files lists of files in different folders. A file list of files from different folders would have to be created using alternative methods. \n",
    "\n",
    "### 2.6.2: Input Parameters\n",
    "> 1. The `directory` parameter indicates the directory where the scattering curves are stored and is an optional parameter with the default value being the current working directory. <br>\n",
    "> 2. The `prefix` parameter indicates the prefix of the files to be loaded. This parameter is useful when you only want to load a subset of files from the given directory. When set to None, the files will not be filtered by prefix. The `prefix` parameter is optional and has the default value of `None`.<br>\n",
    ">3. The `suffix` parameter indicates the file suffix to filter by. If set to None then no suffix filters are applied to the files. `suffix` is an optional parameter and the default value is `None`. If both `prefix` and `suffix` are `None` then all files in the given directory will be loaded. \n",
    "\n",
    "### 2.6.3: Returned Values\n",
    "This function returns a list containing the appended files. \n",
    "\n",
    "### 2.6.4: Raised Errors\n",
    "This function raises no custom errors. For any errors raised, see the documentation for the function indicated in the traceback. \n",
    "\n",
    "## 2.7: Example 3: Basic Usage Loading Files\n",
    "### 2.7.1: Make File List"
   ]
  },
  {
   "cell_type": "code",
   "execution_count": 20,
   "id": "370f18ff-d263-493f-8153-4f4096066b54",
   "metadata": {
    "tags": []
   },
   "outputs": [
    {
     "data": {
      "application/vnd.jupyter.widget-view+json": {
       "model_id": "41a682931bbe44fdae586af4e94b62b3",
       "version_major": 2,
       "version_minor": 0
      },
      "text/plain": [
       "Getting files:   0%|          | 0/12016 [00:00<?, ?it/s]"
      ]
     },
     "metadata": {},
     "output_type": "display_data"
    },
    {
     "name": "stdout",
     "output_type": "stream",
     "text": [
      "Done loading 250 files!\n"
     ]
    }
   ],
   "source": [
    "# first, make a file list\n",
    "files = make_flist(directory='../../../TR_T-jump_SAXS_July2022/protein_20hz_set01/processedb/',\n",
    "                  prefix='diff_protein_20hz_set01_1ms_', suffix='_Q.chi')"
   ]
  },
  {
   "cell_type": "markdown",
   "id": "0bc2a42c-c472-4fcb-8038-9d79deaff18e",
   "metadata": {},
   "source": [
    "<br>\n",
    "This function automatically reports the number of files loaded. It is good to double check and make sure that the correct files are loaded. For this set, all 1ms curves from the directory passed to the `make_flist` function should be loaded. "
   ]
  },
  {
   "cell_type": "code",
   "execution_count": 21,
   "id": "376f57b3-68e8-4c72-b495-39227d8e24a7",
   "metadata": {},
   "outputs": [
    {
     "data": {
      "text/plain": [
       "['../../../TR_T-jump_SAXS_July2022/protein_20hz_set01/processedb/diff_protein_20hz_set01_1ms_118_-10us_118_Q.chi',\n",
       " '../../../TR_T-jump_SAXS_July2022/protein_20hz_set01/processedb/diff_protein_20hz_set01_1ms_202_-10us_202_Q.chi',\n",
       " '../../../TR_T-jump_SAXS_July2022/protein_20hz_set01/processedb/diff_protein_20hz_set01_1ms_057_-10us_057_Q.chi',\n",
       " '../../../TR_T-jump_SAXS_July2022/protein_20hz_set01/processedb/diff_protein_20hz_set01_1ms_106_-10us_106_Q.chi',\n",
       " '../../../TR_T-jump_SAXS_July2022/protein_20hz_set01/processedb/diff_protein_20hz_set01_1ms_191_-10us_191_Q.chi']"
      ]
     },
     "execution_count": 21,
     "metadata": {},
     "output_type": "execute_result"
    }
   ],
   "source": [
    "# show first 5 files in file list\n",
    "files[:5]"
   ]
  },
  {
   "cell_type": "markdown",
   "id": "b48372ce-d7ee-4522-9b79-64307a9b5445",
   "metadata": {},
   "source": [
    "<br>\n",
    "\n",
    "### 2.7.2: Sorting Files\n",
    "As you can see, 250 1ms files are loaded from the indicated directory (you can view all files by removing the slicing). Also note that the files are not necessarily in order after loading them. Functions that require files to be loaded for the analysis will automatically conduct that sorting. If you would like to sort the files, you can use the `sort()` function."
   ]
  },
  {
   "cell_type": "code",
   "execution_count": 22,
   "id": "251c3dad-a331-41e8-b8bb-83fb8a5b7656",
   "metadata": {},
   "outputs": [
    {
     "data": {
      "text/plain": [
       "['../../../TR_T-jump_SAXS_July2022/protein_20hz_set01/processedb/diff_protein_20hz_set01_1ms_001_-5us_001_Q.chi',\n",
       " '../../../TR_T-jump_SAXS_July2022/protein_20hz_set01/processedb/diff_protein_20hz_set01_1ms_002_-10us_002_Q.chi',\n",
       " '../../../TR_T-jump_SAXS_July2022/protein_20hz_set01/processedb/diff_protein_20hz_set01_1ms_003_-10us_003_Q.chi',\n",
       " '../../../TR_T-jump_SAXS_July2022/protein_20hz_set01/processedb/diff_protein_20hz_set01_1ms_004_-10us_004_Q.chi',\n",
       " '../../../TR_T-jump_SAXS_July2022/protein_20hz_set01/processedb/diff_protein_20hz_set01_1ms_005_-10us_005_Q.chi']"
      ]
     },
     "execution_count": 22,
     "metadata": {},
     "output_type": "execute_result"
    }
   ],
   "source": [
    "files.sort()\n",
    "files[:5]"
   ]
  },
  {
   "cell_type": "markdown",
   "id": "edd15916-0178-4bb1-864e-10b927c8da42",
   "metadata": {},
   "source": [
    "### 2.7.3 Load File List\n",
    "For the example data set, the data is comma-delimitted, a mask applied to the first 10 points, and there are no errors stored in the files. "
   ]
  },
  {
   "cell_type": "code",
   "execution_count": 23,
   "id": "931249d5-d88f-40e8-889a-07129e3c414d",
   "metadata": {},
   "outputs": [
    {
     "data": {
      "application/vnd.jupyter.widget-view+json": {
       "model_id": "ebad9de4ddc14178aa759a205294866e",
       "version_major": 2,
       "version_minor": 0
      },
      "text/plain": [
       "Loading curves:   0%|          | 0/250 [00:00<?, ?it/s]"
      ]
     },
     "metadata": {},
     "output_type": "display_data"
    },
    {
     "name": "stdout",
     "output_type": "stream",
     "text": [
      "\u001b[1;92mDone loading 250 curves!\u001b[1;92m\n"
     ]
    }
   ],
   "source": [
    "data, data_arr, q, err = load_set(flist=files, delim=' ', mask=10, err=False)"
   ]
  },
  {
   "cell_type": "markdown",
   "id": "05e815ed-1f51-427b-bd94-59eff59f6f08",
   "metadata": {},
   "source": [
    "#### 2.7.3.1: `data` list\n",
    "The `load_set` function returns one list and four arrays. `data` is returned as a list with each row containing an array of the scattering intensities from one curve. "
   ]
  },
  {
   "cell_type": "code",
   "execution_count": 24,
   "id": "f0de551b-3e58-490f-b810-98a6c1189344",
   "metadata": {},
   "outputs": [
    {
     "data": {
      "text/plain": [
       "[array([-0.02361507, -0.01729978, -0.01946689, ...,  0.00352396,\n",
       "         0.00361119,  0.0032599 ]),\n",
       " array([ 0.01019945,  0.00482613, -0.02796945, ...,  0.00362196,\n",
       "         0.0041012 ,  0.0041946 ]),\n",
       " array([-0.01800724, -0.03033412, -0.02624674, ...,  0.00504272,\n",
       "         0.00483478,  0.00405936]),\n",
       " array([-0.05083699, -0.03037309, -0.02861154, ...,  0.00483906,\n",
       "         0.00477454,  0.00455272]),\n",
       " array([-0.00237962, -0.01865974, -0.02803873, ...,  0.00435879,\n",
       "         0.00467763,  0.0047898 ])]"
      ]
     },
     "execution_count": 24,
     "metadata": {},
     "output_type": "execute_result"
    }
   ],
   "source": [
    "# show first 5 rows of data\n",
    "data[:5]"
   ]
  },
  {
   "cell_type": "markdown",
   "id": "d5c03b59-c4ca-4470-b961-9b7c7621278b",
   "metadata": {},
   "source": [
    "#### 2.7.3.2: `data_arr` array\n",
    "`data_arr` is the array with all of the scattering intensity values from each curve loaded as a row. This is the primary array that analysis will be conducted on going forward. "
   ]
  },
  {
   "cell_type": "code",
   "execution_count": 25,
   "id": "ad30e88f-92a1-4f9f-9350-816ada6bd8d3",
   "metadata": {},
   "outputs": [
    {
     "data": {
      "text/plain": [
       "array([[-0.02361507, -0.01729978, -0.01946689, ...,  0.00352396,\n",
       "         0.00361119,  0.0032599 ],\n",
       "       [ 0.01019945,  0.00482613, -0.02796945, ...,  0.00362196,\n",
       "         0.0041012 ,  0.0041946 ],\n",
       "       [-0.01800724, -0.03033412, -0.02624674, ...,  0.00504272,\n",
       "         0.00483478,  0.00405936],\n",
       "       [-0.05083699, -0.03037309, -0.02861154, ...,  0.00483906,\n",
       "         0.00477454,  0.00455272],\n",
       "       [-0.00237962, -0.01865974, -0.02803873, ...,  0.00435879,\n",
       "         0.00467763,  0.0047898 ]])"
      ]
     },
     "execution_count": 25,
     "metadata": {},
     "output_type": "execute_result"
    }
   ],
   "source": [
    "data_arr[:5]"
   ]
  },
  {
   "cell_type": "markdown",
   "id": "3cd472a8-ce80-4a3b-8cf1-90b87dc802cb",
   "metadata": {},
   "source": [
    "#### 2.7.3.3: `q` array\n",
    "The `q` array contains all the q values. For scattering curves collected during the same experiment the scattering vectors should be the same for every curve, hence only loading one q for all 250 curves (for this example). If you have difference q values you would need to construct those q arrays separately and store them as different variables to access them. "
   ]
  },
  {
   "cell_type": "code",
   "execution_count": 26,
   "id": "28de60c1-4cd9-41f7-891e-a7acd3935312",
   "metadata": {},
   "outputs": [
    {
     "data": {
      "text/plain": [
       "array([0.0165888 , 0.0180313 , 0.01947379, 0.02091628, 0.02235877])"
      ]
     },
     "execution_count": 26,
     "metadata": {},
     "output_type": "execute_result"
    }
   ],
   "source": [
    "q[:5]"
   ]
  },
  {
   "cell_type": "markdown",
   "id": "e5c642da-669c-43a5-a938-eb69294050a2",
   "metadata": {},
   "source": [
    "#### `err` array\n",
    "The `err` array contains the errors for each curve loaded as a row. This array will be empty if `err=Fasle` is passed to the `load_set()`function"
   ]
  },
  {
   "cell_type": "code",
   "execution_count": 27,
   "id": "81a8e9f1-cbf1-43cc-bf06-9ded7da3f9a9",
   "metadata": {},
   "outputs": [
    {
     "data": {
      "text/plain": [
       "array([], dtype=float64)"
      ]
     },
     "execution_count": 27,
     "metadata": {},
     "output_type": "execute_result"
    }
   ],
   "source": [
    "err"
   ]
  },
  {
   "cell_type": "markdown",
   "id": "5eff8fcf-c9ae-4626-b1de-642cadd1655b",
   "metadata": {},
   "source": [
    "## Example 4: Looping over Multiple Time Delays\n",
    "When analyzing time-resolved SAXS data, it is very helpful to be able to loop over multiple data sets that represent different time points at one time. Depending on memory limitations, you can loop over files lists or you can loop over the already loaded array elements. "
   ]
  },
  {
   "cell_type": "code",
   "execution_count": 28,
   "id": "38be3e5e-98c4-4156-aea9-ef33c1fb7818",
   "metadata": {},
   "outputs": [
    {
     "name": "stdout",
     "output_type": "stream",
     "text": [
      "Loading 10us curves\n"
     ]
    },
    {
     "data": {
      "application/vnd.jupyter.widget-view+json": {
       "model_id": "bf581add87e24a2ca52b5b2321524d56",
       "version_major": 2,
       "version_minor": 0
      },
      "text/plain": [
       "Getting files:   0%|          | 0/12016 [00:00<?, ?it/s]"
      ]
     },
     "metadata": {},
     "output_type": "display_data"
    },
    {
     "name": "stdout",
     "output_type": "stream",
     "text": [
      "Done loading 250 files!\n"
     ]
    },
    {
     "data": {
      "application/vnd.jupyter.widget-view+json": {
       "model_id": "7523ef9ab3a044e3964ec749f93a9df7",
       "version_major": 2,
       "version_minor": 0
      },
      "text/plain": [
       "Loading curves:   0%|          | 0/250 [00:00<?, ?it/s]"
      ]
     },
     "metadata": {},
     "output_type": "display_data"
    },
    {
     "name": "stdout",
     "output_type": "stream",
     "text": [
      "\u001b[1;92mDone loading 250 curves!\u001b[1;92m\n",
      "Loading 50us curves\n"
     ]
    },
    {
     "data": {
      "application/vnd.jupyter.widget-view+json": {
       "model_id": "b50cc7781db446ec93e3fce9f27ffbe4",
       "version_major": 2,
       "version_minor": 0
      },
      "text/plain": [
       "Getting files:   0%|          | 0/12016 [00:00<?, ?it/s]"
      ]
     },
     "metadata": {},
     "output_type": "display_data"
    },
    {
     "name": "stdout",
     "output_type": "stream",
     "text": [
      "Done loading 249 files!\n"
     ]
    },
    {
     "data": {
      "application/vnd.jupyter.widget-view+json": {
       "model_id": "142c12547fec41058c17904137425c37",
       "version_major": 2,
       "version_minor": 0
      },
      "text/plain": [
       "Loading curves:   0%|          | 0/249 [00:00<?, ?it/s]"
      ]
     },
     "metadata": {},
     "output_type": "display_data"
    },
    {
     "name": "stdout",
     "output_type": "stream",
     "text": [
      "\u001b[1;92mDone loading 249 curves!\u001b[1;92m\n",
      "Loading 100us curves\n"
     ]
    },
    {
     "data": {
      "application/vnd.jupyter.widget-view+json": {
       "model_id": "082b5aeeb7df487fb1aa86637671000a",
       "version_major": 2,
       "version_minor": 0
      },
      "text/plain": [
       "Getting files:   0%|          | 0/12016 [00:00<?, ?it/s]"
      ]
     },
     "metadata": {},
     "output_type": "display_data"
    },
    {
     "name": "stdout",
     "output_type": "stream",
     "text": [
      "Done loading 250 files!\n"
     ]
    },
    {
     "data": {
      "application/vnd.jupyter.widget-view+json": {
       "model_id": "597683fc919344c4988d27c9ecddca5c",
       "version_major": 2,
       "version_minor": 0
      },
      "text/plain": [
       "Loading curves:   0%|          | 0/250 [00:00<?, ?it/s]"
      ]
     },
     "metadata": {},
     "output_type": "display_data"
    },
    {
     "name": "stdout",
     "output_type": "stream",
     "text": [
      "\u001b[1;92mDone loading 250 curves!\u001b[1;92m\n",
      "Loading 500us curves\n"
     ]
    },
    {
     "data": {
      "application/vnd.jupyter.widget-view+json": {
       "model_id": "8d6440a3e69f42f3a4df06d0a696baa4",
       "version_major": 2,
       "version_minor": 0
      },
      "text/plain": [
       "Getting files:   0%|          | 0/12016 [00:00<?, ?it/s]"
      ]
     },
     "metadata": {},
     "output_type": "display_data"
    },
    {
     "name": "stdout",
     "output_type": "stream",
     "text": [
      "Done loading 250 files!\n"
     ]
    },
    {
     "data": {
      "application/vnd.jupyter.widget-view+json": {
       "model_id": "e71a96ff956e443d99b7b0e76a33af01",
       "version_major": 2,
       "version_minor": 0
      },
      "text/plain": [
       "Loading curves:   0%|          | 0/250 [00:00<?, ?it/s]"
      ]
     },
     "metadata": {},
     "output_type": "display_data"
    },
    {
     "name": "stdout",
     "output_type": "stream",
     "text": [
      "\u001b[1;92mDone loading 250 curves!\u001b[1;92m\n",
      "Loading 1ms curves\n"
     ]
    },
    {
     "data": {
      "application/vnd.jupyter.widget-view+json": {
       "model_id": "25e76a53ed5b496291e77ab9319cd9c0",
       "version_major": 2,
       "version_minor": 0
      },
      "text/plain": [
       "Getting files:   0%|          | 0/12016 [00:00<?, ?it/s]"
      ]
     },
     "metadata": {},
     "output_type": "display_data"
    },
    {
     "name": "stdout",
     "output_type": "stream",
     "text": [
      "Done loading 250 files!\n"
     ]
    },
    {
     "data": {
      "application/vnd.jupyter.widget-view+json": {
       "model_id": "db0ef89044ba4a9395dfe85181feca8a",
       "version_major": 2,
       "version_minor": 0
      },
      "text/plain": [
       "Loading curves:   0%|          | 0/250 [00:00<?, ?it/s]"
      ]
     },
     "metadata": {},
     "output_type": "display_data"
    },
    {
     "name": "stdout",
     "output_type": "stream",
     "text": [
      "\u001b[1;92mDone loading 250 curves!\u001b[1;92m\n",
      "Done loading data!\n"
     ]
    }
   ],
   "source": [
    "# define time delays as a list of strings\n",
    "times = ['10us', '50us', '100us', '500us', '1ms']\n",
    "\n",
    "# loop over time delay, make a file lists, and load the curve set\n",
    "for t in times:\n",
    "    print('Loading ' + str(t) + ' curves')\n",
    "    files = make_flist(directory='../../../TR_T-jump_SAXS_July2022/protein_20hz_set01/processedb/',\n",
    "                  prefix='diff_protein_20hz_set01_' + str(t), suffix='_Q.chi')\n",
    "    data, data_arr, q, err = load_set(flist=files, delim=' ', mask=10, err=False)\n",
    "print('Done loading data!')"
   ]
  },
  {
   "cell_type": "markdown",
   "id": "575fafb4-83f5-47bd-8117-fee45b7a461e",
   "metadata": {},
   "source": [
    "## Example 5: Looping Over Data Arrays\n",
    "For some analyses such as bootstrapping (covered in later tutorials), loading files over and over again can cause isues with memory handling. And alternative to looping over file lists is to load all the data to analyze, and then loop over the arrays. "
   ]
  },
  {
   "cell_type": "code",
   "execution_count": 29,
   "id": "0f2f08e6-8b6c-4413-8ff7-59d5c3acb98e",
   "metadata": {},
   "outputs": [
    {
     "data": {
      "application/vnd.jupyter.widget-view+json": {
       "model_id": "a1e95eb6747e4b0f8247547c56aa5353",
       "version_major": 2,
       "version_minor": 0
      },
      "text/plain": [
       "Getting files:   0%|          | 0/12016 [00:00<?, ?it/s]"
      ]
     },
     "metadata": {},
     "output_type": "display_data"
    },
    {
     "name": "stdout",
     "output_type": "stream",
     "text": [
      "Done loading 250 files!\n",
      "Number of 10us files loaded: 250\n"
     ]
    },
    {
     "data": {
      "application/vnd.jupyter.widget-view+json": {
       "model_id": "af00c14b5e414283b731f368c19a5bc0",
       "version_major": 2,
       "version_minor": 0
      },
      "text/plain": [
       "Loading curves:   0%|          | 0/250 [00:00<?, ?it/s]"
      ]
     },
     "metadata": {},
     "output_type": "display_data"
    },
    {
     "name": "stdout",
     "output_type": "stream",
     "text": [
      "\u001b[1;92mDone loading 250 curves!\u001b[1;92m\n"
     ]
    },
    {
     "data": {
      "application/vnd.jupyter.widget-view+json": {
       "model_id": "4821446924154dff97f05ddc78f9f3c8",
       "version_major": 2,
       "version_minor": 0
      },
      "text/plain": [
       "Getting files:   0%|          | 0/12016 [00:00<?, ?it/s]"
      ]
     },
     "metadata": {},
     "output_type": "display_data"
    },
    {
     "name": "stdout",
     "output_type": "stream",
     "text": [
      "Done loading 249 files!\n",
      "Number of 50us files loaded: 249\n"
     ]
    },
    {
     "data": {
      "application/vnd.jupyter.widget-view+json": {
       "model_id": "765150719eab44869e8db7402241bc40",
       "version_major": 2,
       "version_minor": 0
      },
      "text/plain": [
       "Loading curves:   0%|          | 0/249 [00:00<?, ?it/s]"
      ]
     },
     "metadata": {},
     "output_type": "display_data"
    },
    {
     "name": "stdout",
     "output_type": "stream",
     "text": [
      "\u001b[1;92mDone loading 249 curves!\u001b[1;92m\n"
     ]
    },
    {
     "data": {
      "application/vnd.jupyter.widget-view+json": {
       "model_id": "24eb624d566a46d489962c5a4a9854a5",
       "version_major": 2,
       "version_minor": 0
      },
      "text/plain": [
       "Getting files:   0%|          | 0/12016 [00:00<?, ?it/s]"
      ]
     },
     "metadata": {},
     "output_type": "display_data"
    },
    {
     "name": "stdout",
     "output_type": "stream",
     "text": [
      "Done loading 250 files!\n",
      "Number of 100us files loaded: 250\n"
     ]
    },
    {
     "data": {
      "application/vnd.jupyter.widget-view+json": {
       "model_id": "6b1c6854e3aa4c7b9d9504f808ded3ad",
       "version_major": 2,
       "version_minor": 0
      },
      "text/plain": [
       "Loading curves:   0%|          | 0/250 [00:00<?, ?it/s]"
      ]
     },
     "metadata": {},
     "output_type": "display_data"
    },
    {
     "name": "stdout",
     "output_type": "stream",
     "text": [
      "\u001b[1;92mDone loading 250 curves!\u001b[1;92m\n"
     ]
    },
    {
     "data": {
      "application/vnd.jupyter.widget-view+json": {
       "model_id": "86463ac355cf40d7b69c9b14a11610f4",
       "version_major": 2,
       "version_minor": 0
      },
      "text/plain": [
       "Getting files:   0%|          | 0/12016 [00:00<?, ?it/s]"
      ]
     },
     "metadata": {},
     "output_type": "display_data"
    },
    {
     "name": "stdout",
     "output_type": "stream",
     "text": [
      "Done loading 250 files!\n",
      "Number of 500us files loaded: 250\n"
     ]
    },
    {
     "data": {
      "application/vnd.jupyter.widget-view+json": {
       "model_id": "ae3b94e29e854cb8b682f742119378ed",
       "version_major": 2,
       "version_minor": 0
      },
      "text/plain": [
       "Loading curves:   0%|          | 0/250 [00:00<?, ?it/s]"
      ]
     },
     "metadata": {},
     "output_type": "display_data"
    },
    {
     "name": "stdout",
     "output_type": "stream",
     "text": [
      "\u001b[1;92mDone loading 250 curves!\u001b[1;92m\n"
     ]
    },
    {
     "data": {
      "application/vnd.jupyter.widget-view+json": {
       "model_id": "347469bf427a4a45a9e2e59dcda9aed1",
       "version_major": 2,
       "version_minor": 0
      },
      "text/plain": [
       "Getting files:   0%|          | 0/12016 [00:00<?, ?it/s]"
      ]
     },
     "metadata": {},
     "output_type": "display_data"
    },
    {
     "name": "stdout",
     "output_type": "stream",
     "text": [
      "Done loading 250 files!\n",
      "Number of 1ms files loaded: 250\n"
     ]
    },
    {
     "data": {
      "application/vnd.jupyter.widget-view+json": {
       "model_id": "785955ba6e574be99da7812ec184fc22",
       "version_major": 2,
       "version_minor": 0
      },
      "text/plain": [
       "Loading curves:   0%|          | 0/250 [00:00<?, ?it/s]"
      ]
     },
     "metadata": {},
     "output_type": "display_data"
    },
    {
     "name": "stdout",
     "output_type": "stream",
     "text": [
      "\u001b[1;92mDone loading 250 curves!\u001b[1;92m\n"
     ]
    }
   ],
   "source": [
    "# Create an empty list to store the resampled data\n",
    "all_data = []\n",
    "\n",
    "# load protein curves and remove outliers\n",
    "prot_curves = []    \n",
    "for t in times:\n",
    "    \n",
    "    # protein average curve\n",
    "    # load difference files for iterative chi test\n",
    "    files = make_flist(directory='../../../TR_T-jump_SAXS_July2022/protein_20hz_set01/processedb/',\n",
    "                  prefix='diff_protein_20hz_set01_' + str(t), suffix='_Q.chi')\n",
    "    \n",
    "    # get length of file list before outliers are removed\n",
    "    print('Number of ' + str(t) + ' files loaded: ' + str(len(files)))\n",
    "    \n",
    "    # sort files\n",
    "    files.sort()\n",
    "        \n",
    "    # load difference curves\n",
    "    data, array, q, err = load_set(flist=files, delim=' ', mask=10, err=False)\n",
    "        \n",
    "    # append array to prot curves\n",
    "    all_data.append(array)"
   ]
  },
  {
   "cell_type": "markdown",
   "id": "ea76578b-b38c-4cb5-9619-83e331805662",
   "metadata": {},
   "source": [
    "<br>\n",
    "\n",
    "The result is a list of arrays, with each array representing a time delay and each row within each array representing a single curve in that time delay. The length of the `times` list should match the length of the `all_data` list"
   ]
  },
  {
   "cell_type": "code",
   "execution_count": 30,
   "id": "2dc4724d-6dd1-4c18-85b8-519345063436",
   "metadata": {},
   "outputs": [
    {
     "data": {
      "text/plain": [
       "[array([[ 0.00780806, -0.02239301, -0.00785527, ...,  0.00471454,\n",
       "          0.00476212,  0.00436395],\n",
       "        [-0.00806228,  0.03189361,  0.00218404, ...,  0.00489997,\n",
       "          0.00502199,  0.00514657],\n",
       "        [-0.00606146, -0.00454288, -0.01490936, ...,  0.00499519,\n",
       "          0.00555188,  0.00498185],\n",
       "        ...,\n",
       "        [-0.00473415, -0.01742209, -0.01262139, ...,  0.00500315,\n",
       "          0.00499307,  0.00495993],\n",
       "        [ 0.01479242, -0.00715704, -0.00560224, ...,  0.00508978,\n",
       "          0.00482687,  0.00484395],\n",
       "        [-0.03352003, -0.00629559, -0.02296356, ...,  0.00525053,\n",
       "          0.0052654 ,  0.00476029]]),\n",
       " array([[ 0.00374916, -0.0256682 , -0.01552836, ...,  0.00438836,\n",
       "          0.00447027,  0.00458886],\n",
       "        [-0.01517671,  0.00086408, -0.01944792, ...,  0.00430297,\n",
       "          0.00494602,  0.00449376],\n",
       "        [ 0.00414069, -0.01553554, -0.0295395 , ...,  0.00531735,\n",
       "          0.00537125,  0.0050534 ],\n",
       "        ...,\n",
       "        [-0.00594803, -0.01359898, -0.00511796, ...,  0.00536841,\n",
       "          0.00503244,  0.0049108 ],\n",
       "        [ 0.02797552, -0.00408475, -0.00766173, ...,  0.005264  ,\n",
       "          0.00516496,  0.00518539],\n",
       "        [-0.01937969, -0.0161514 , -0.02049374, ...,  0.00430634,\n",
       "          0.0043415 ,  0.0044486 ]]),\n",
       " array([[ 0.03480432, -0.01528396, -0.01812334, ...,  0.0037688 ,\n",
       "          0.00417047,  0.00400775],\n",
       "        [-0.014972  ,  0.00039719, -0.01563804, ...,  0.00475884,\n",
       "          0.00486095,  0.00478264],\n",
       "        [-0.02636618, -0.01396669, -0.01821392, ...,  0.00565481,\n",
       "          0.0057562 ,  0.00527185],\n",
       "        ...,\n",
       "        [ 0.00308292, -0.00149095, -0.00654376, ...,  0.00464479,\n",
       "          0.00468129,  0.00473684],\n",
       "        [ 0.00696177, -0.00688917, -0.02103109, ...,  0.00512594,\n",
       "          0.00524755,  0.00537156],\n",
       "        [ 0.02125897,  0.00158745, -0.01486778, ...,  0.00486393,\n",
       "          0.00493124,  0.005095  ]]),\n",
       " array([[ 0.00177286, -0.01617976, -0.01892432, ...,  0.0037513 ,\n",
       "          0.00437886,  0.00417869],\n",
       "        [ 0.03029201,  0.01009193, -0.01303191, ...,  0.00432548,\n",
       "          0.00506853,  0.00441357],\n",
       "        [-0.00451703, -0.01040489, -0.0092659 , ...,  0.00420072,\n",
       "          0.00484498,  0.00457515],\n",
       "        ...,\n",
       "        [ 0.00010002, -0.01855985, -0.0096398 , ...,  0.00507509,\n",
       "          0.00502009,  0.00504915],\n",
       "        [ 0.03194434, -0.00035462, -0.02031188, ...,  0.00530677,\n",
       "          0.00467608,  0.00474153],\n",
       "        [-0.01054354, -0.0238788 , -0.03345785, ...,  0.00403988,\n",
       "          0.0041224 ,  0.00418793]]),\n",
       " array([[-0.02361507, -0.01729978, -0.01946689, ...,  0.00352396,\n",
       "          0.00361119,  0.0032599 ],\n",
       "        [ 0.01019945,  0.00482613, -0.02796945, ...,  0.00362196,\n",
       "          0.0041012 ,  0.0041946 ],\n",
       "        [-0.01800724, -0.03033412, -0.02624674, ...,  0.00504272,\n",
       "          0.00483478,  0.00405936],\n",
       "        ...,\n",
       "        [ 0.00191577, -0.01924784, -0.00817792, ...,  0.00470703,\n",
       "          0.00422248,  0.00425987],\n",
       "        [ 0.02022156,  0.00361265, -0.00564304, ...,  0.00564061,\n",
       "          0.00537339,  0.00533185],\n",
       "        [-0.03390196, -0.02857439, -0.0195964 , ...,  0.00426714,\n",
       "          0.00415827,  0.00354835]])]"
      ]
     },
     "execution_count": 30,
     "metadata": {},
     "output_type": "execute_result"
    }
   ],
   "source": [
    "# look at data structure\n",
    "all_data"
   ]
  },
  {
   "cell_type": "code",
   "execution_count": 31,
   "id": "2a0d1166-c60d-4a1c-ae52-7288c2b7b210",
   "metadata": {},
   "outputs": [
    {
     "data": {
      "text/plain": [
       "5"
      ]
     },
     "execution_count": 31,
     "metadata": {},
     "output_type": "execute_result"
    }
   ],
   "source": [
    "# check length of all_data\n",
    "len(all_data)"
   ]
  },
  {
   "cell_type": "code",
   "execution_count": 32,
   "id": "d6fa9418-b980-402d-95c2-d03368f09cb6",
   "metadata": {},
   "outputs": [
    {
     "data": {
      "text/plain": [
       "5"
      ]
     },
     "execution_count": 32,
     "metadata": {},
     "output_type": "execute_result"
    }
   ],
   "source": [
    "#check length of times\n",
    "len(times)"
   ]
  },
  {
   "cell_type": "markdown",
   "id": "d446387f-7e06-4442-8184-3aa573502837",
   "metadata": {},
   "source": [
    "<br>\n",
    "\n",
    "To access a specific time delay in the `all_data` list use basic slicing. "
   ]
  },
  {
   "cell_type": "code",
   "execution_count": 33,
   "id": "5373b6af-ddad-42c6-a17f-3dce85a948fd",
   "metadata": {},
   "outputs": [
    {
     "data": {
      "text/plain": [
       "array([[ 0.00780806, -0.02239301, -0.00785527, ...,  0.00471454,\n",
       "         0.00476212,  0.00436395],\n",
       "       [-0.00806228,  0.03189361,  0.00218404, ...,  0.00489997,\n",
       "         0.00502199,  0.00514657],\n",
       "       [-0.00606146, -0.00454288, -0.01490936, ...,  0.00499519,\n",
       "         0.00555188,  0.00498185],\n",
       "       ...,\n",
       "       [-0.00473415, -0.01742209, -0.01262139, ...,  0.00500315,\n",
       "         0.00499307,  0.00495993],\n",
       "       [ 0.01479242, -0.00715704, -0.00560224, ...,  0.00508978,\n",
       "         0.00482687,  0.00484395],\n",
       "       [-0.03352003, -0.00629559, -0.02296356, ...,  0.00525053,\n",
       "         0.0052654 ,  0.00476029]])"
      ]
     },
     "execution_count": 33,
     "metadata": {},
     "output_type": "execute_result"
    }
   ],
   "source": [
    "# get the first time delay\n",
    "all_data[0]"
   ]
  },
  {
   "cell_type": "markdown",
   "id": "17514b8d-df9b-408b-a96e-daf9565f6597",
   "metadata": {},
   "source": [
    "<br>\n",
    "\n",
    "To access a specific curves in the `all_data` list use basic slicing. "
   ]
  },
  {
   "cell_type": "code",
   "execution_count": 34,
   "id": "8353cd31-86fd-4c24-91c9-006ceac6f990",
   "metadata": {},
   "outputs": [
    {
     "data": {
      "text/plain": [
       "array([ 0.00780806, -0.02239301, -0.00785527, ...,  0.00471454,\n",
       "        0.00476212,  0.00436395])"
      ]
     },
     "execution_count": 34,
     "metadata": {},
     "output_type": "execute_result"
    }
   ],
   "source": [
    "all_data[0][0]"
   ]
  },
  {
   "cell_type": "markdown",
   "id": "09d8753a-0507-4116-8682-2d0cb3107487",
   "metadata": {},
   "source": [
    "<div class=\"alert alert-block alert-success\">\n",
    "    \n",
    "    <i class=\"fa fa-check-circle\"></i>&nbsp; <b>Congratulations!</b><br>\n",
    "       You completed the first tutorial! Continue with <a href=\"https://github.com/ScientistAsh/tr_tjump_saxs/blob/main/TUTORIALS/tutorial2_plotting.ipynb\">Tutorial 2</a> to learn about visualizing SAXS curves.\n",
    "    </div>"
   ]
  },
  {
   "cell_type": "code",
   "execution_count": null,
   "id": "1168500c-23ba-4882-b2db-88f478e51ba6",
   "metadata": {},
   "outputs": [],
   "source": []
  }
 ],
 "metadata": {
  "kernelspec": {
   "display_name": "Python 3",
   "language": "python",
   "name": "python3"
  },
  "language_info": {
   "codemirror_mode": {
    "name": "ipython",
    "version": 3
   },
   "file_extension": ".py",
   "mimetype": "text/x-python",
   "name": "python",
   "nbconvert_exporter": "python",
   "pygments_lexer": "ipython3",
   "version": "3.8.8"
  }
 },
 "nbformat": 4,
 "nbformat_minor": 5
}

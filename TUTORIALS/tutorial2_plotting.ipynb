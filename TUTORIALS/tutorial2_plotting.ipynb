{
 "cells": [
  {
   "cell_type": "markdown",
   "id": "05698196-cbe0-4693-bbe3-cecd0303f1ff",
   "metadata": {},
   "source": [
    "# Tutorial 2: Plotting Time Resolved, Temperature-Jump SAXS Data Analysis\n",
    "\n",
    "**Package Information:**<br>\n",
    "Currently the [tr_tjump_saxs](https://gitlab.oit.duke.edu/tr_t-jump_saxs/y22-23/-/tree/main?ref_type=heads \"tr_tjump_saxs\") package only works through the Python3 command line. The full dependencies can be found on the [Henderson GitLab Page](https://gitlab.oit.duke.edu/tr_t-jump_saxs/y22-23/-/tree/main?ref_type=heads \"tr_tjump_saxs\") and the environment can be cloned from the [environment.yml file](https://gitlab.oit.duke.edu/tr_t-jump_saxs/y22-23/-/blob/main/environment.yml?ref_type=heads \"environment.yml file\"). The data analysis can be executed from an interactive Python command line such as [iPython](https://www.python.org/) or [Jupyter](https://jupyter.org/) or the code can be written in a script to run in a non-interactive mode. The preferred usage is in Jupyter Lab as this is the environment the package was developed in. Jupyter also provides a file where all code, output of code, and notes can be contained in a single file and serves a record of the data analysis performed, the code used to conduct the data analysis, and the output of the analysis. \n",
    "\n",
    "**Tutorial Information:**<br>\n",
    "This set of tutorial notebooks will cover how to use the `tr_tjump_saxs` package to analyze TR, T-Jump SAXS data and the <a href=\"https://www.science.org/doi/10.1126/sciadv.adj0396\">workflow used to study HIV-1 Envelope glycoprotein dynamics. </a> This package contains multiple modules, each containing a set of functions to accomplish a specific subtask of the TR, T-Jump SAXS data analysis workflow. Many of the functions are modular and some can be helpful for analyzing static SAXS and other data sets as well. \n",
    "\n",
    "**Package Modules:**<br>\n",
    "> 1. `file_handling`<br>\n",
    "> 2. `saxs_processing`<br>\n",
    "> 3. `saxs_qc`<br>\n",
    "> 4. `saxs_kinetics`<br>\n",
    "> 5. `saxs_modeling`<br>\n",
    "\n",
    "**Developer:** [@ScientistAsh](https://github.com/ScientistAsh \"ScientistAsh GitHub\")\n",
    "\n",
    "**Updated:** 31 Janaury 2024\n",
    "\n",
    "# Tutorial 2 Introduction\n",
    "In this Tutorial 2 notebook, I introduce the plotting function in the `file_handling` module from the `tr_tjump_saxs` package. If you need help with loading the files or slicing loaded data, see [Tutorial 1](https://gitlab.oit.duke.edu/tr_t-jump_saxs/y22-23/-/blob/main/TUTORIALS/tutorial1_file-handling.ipynb?ref_type=heads). If you find any issues with this tutorial, please create an issue on the repository GitLab page ([tr_tjump_saxs issues](https://gitlab.oit.duke.edu/tr_t-jump_saxs/y22-23/-/issues \"tr_tjump_saxs Issues\")).\n",
    "\n",
    "## Module functions:\n",
    "> `make_dir()` makes a new directory to store output. <br>\n",
    "> `make_flist()` makes a list of files. <br>\n",
    "> `load_saxs()` load a single SAXS scattering or difference curves. <br>\n",
    "> `load_set()` load a set of SAXS scattering or difference curves. <br>\n",
    "> `plot_curve()` plots a single or set of SAXS scattering or difference curves. <br>\n",
    "\n",
    "\n",
    "## Tutorial Files:\n",
    "\n",
    "### Data Files\n",
    "The original data used in this analysis is deposited on the [SASBDB](https://www.sasbdb.org/) with accession numbers:\n",
    "> **Static Data:** <br>\n",
    "    - *CH505 Temperature Sereies*: SASDT29, SASDT39, SASDT49, SASDT59 <br>\n",
    "    - *CH848 Temperature Series*: SASDTH9, SASDTJ9, SASDTK9, SASDTL9 <br>\n",
    "<br>\n",
    "> **T-Jump Data:** <br>\n",
    "    - *CH505 T-Jump Data*: SASDT69, SASDT79, SASDT89, SASDT99, SASDTA9, SASDTB9, SASDTC9, SASDTD9, SASDTE9, SASDTF9, SASDTG9 <br>\n",
    "     - *CH848 T-Jump Data*: SASDTM9, SASDTN9, SASDTP9, SASDTQ9, SASDTR9, SASDTS9, SASDTT9, SASDTU9, SASDTV9, SASDTW9 <br>\n",
    "<br>\n",
    "> **Static Env SOSIP Panel:** SASDTZ9, SASDU22, SASDU32, SASDU42, SASDTX9, SASDTY9 <br>\n",
    "\n",
    "Additional MD data associated with the paper can be found on [Zenodo](https://zenodo.org/records/10451687).\n",
    "\n",
    "### Output Files\n",
    "Example output is included in the [OUTPUT](https://github.com/ScientistAsh/tr_tjump_saxs/tree/main/TUTORIALShttps://github.com/ScientistAsh/tr_tjump_saxs/tree/main/TUTORIALS/OUTPUT/) subdirectory in the [TUTORIALS](https://gitlab.oit.duke.edu/tr_t-jump_saxs/y22-23/-/tree/main/TUTORIALS?ref_type=heads) directory.  \n",
    "\n",
    "# How to Use Jupyter Notebooks\n",
    "You can execute the code directly in this notebook or create your own notebook and copy the code there."
   ]
  },
  {
   "cell_type": "markdown",
   "id": "6c0a0b62-afdc-4f77-ab79-93618c4d440c",
   "metadata": {
    "tags": []
   },
   "source": [
    "<div class=\"alert alert-block alert-info\">\n",
    "    \n",
    "    <b><i class=\"fa fa-info-circle\" aria-hidden=\"true\"></i>&nbsp; Tips</b><br>\n",
    "    \n",
    "    <b>1.</b> To run the currently highlighted cell, hit the <code>shift</code> and <code>enter</code> keys at the same time.<br>\n",
    "    <b>2</b>. To get help with a specific function, place the cursor in the functions brackets and hit the <code>shift</code> and <code>tab</code> keys at the same time.\n",
    "\n",
    "</div>"
   ]
  },
  {
   "cell_type": "markdown",
   "id": "7d6d2ab2-073b-4b86-bcbc-ffe4d0a11387",
   "metadata": {},
   "source": [
    "<div class=\"alert alert-block alert-info\" style=\"background-color: white; border: 2px solid; padding: 10px\">\n",
    "    <b><i class=\"fa fa-star\" aria-hidden=\"true\"></i>&nbsp; In the Literature</b><br>\n",
    "    \n",
    "    Our <a href=\"https://www.science.org/doi/10.1126/sciadv.adj0396\">recent paper </a> in Science Advances provides an example of the type of data, the analysis procedure, and example output for this type of data analysis.  <br> \n",
    "    \n",
    "    <p style=\"text-align:center\">\n",
    "    \n",
    "</div>"
   ]
  },
  {
   "cell_type": "markdown",
   "id": "e936c595-a9f0-4387-9a6b-ba7d74e7a337",
   "metadata": {},
   "source": [
    "# Import Modules\n",
    "\n",
    "The first step is to import the necessary python packages. The dependecies will automatically be imported with the package import."
   ]
  },
  {
   "cell_type": "code",
   "execution_count": null,
   "id": "9c142b14-d63c-4ff3-805f-ded0030bbe71",
   "metadata": {
    "tags": []
   },
   "outputs": [],
   "source": [
    "# import sys to allow python to use the file browser to find files\n",
    "import sys\n",
    "\n",
    "# append the path for the tr_tjump_saxs_analysis package to the PYTHONPATH\n",
    "sys.path.append(r'../')\n",
    "\n",
    "# import CH505TF_SAXS analysis dependent packages and custom functions\n",
    "from file_handling import *"
   ]
  },
  {
   "cell_type": "markdown",
   "id": "561aed21-e782-4394-852a-6ba7a86c9743",
   "metadata": {},
   "source": [
    "<div class=\"alert alert-block alert-info\">\n",
    "    <b><i class=\"fa fa-info-circle\" aria-hidden=\"true\"></i>&nbsp; Tips</b><br>\n",
    "    Be sure that the path for the <code>tr_tjump_saxs</code> package appended to the <code>PYTHONPATH</code> matches the path to the repository on your machine.\n",
    "    </div>"
   ]
  },
  {
   "cell_type": "markdown",
   "id": "dc4b80d8-c659-430a-aed3-8ece59b54e49",
   "metadata": {},
   "source": [
    "# Load Data\n",
    "We will use the `load_set` function to load a set of SAXS difference curves to plot. See [Tutorial 1](https://gitlab.oit.duke.edu/tr_t-jump_saxs/y22-23/-/blob/main/TUTORIALS/tutorial1_file-handling.ipynb?ref_type=heads) for more information in this function if needed. "
   ]
  },
  {
   "cell_type": "code",
   "execution_count": null,
   "id": "370f18ff-d263-493f-8153-4f4096066b54",
   "metadata": {
    "tags": []
   },
   "outputs": [],
   "source": [
    "# first, make a file list\n",
    "files = make_flist(directory='../../../TR_T-jump_SAXS_July2022/protein_20hz_set01/processedb/',\n",
    "                  prefix='diff_protein_20hz_set01_1ms_', suffix='_Q.chi')\n",
    "\n",
    "# sort files\n",
    "files.sort()\n",
    "\n",
    "# load files into np arrays\n",
    "data, data_arr, q, err = load_set(flist=files, delim=' ', mask=10, err=False)"
   ]
  },
  {
   "cell_type": "markdown",
   "id": "517c4e29-2620-4125-bfce-d0082dcef92d",
   "metadata": {},
   "source": [
    "# Plot Data\n",
    "\n",
    "## Overview\n",
    "Once all the data you would like to work with is loaded, it is best practice to check the data with the plots to be sure the data is loaded and sliced appropriately. You can use the built in functions for plotting in python, but this module also contains a function to plot SAXS data sets. The `plot_curve` Function\n",
    "\n",
    "## Input Parameters has 13 input parameters.\n",
    "> 1. `data_arr`is the array containing the data to be plotted and is required input. This can be either a single curve or a set of curves. <br>\n",
    "> 2. `q_arr` is the array containing the scattering vector values and is required input. <br>\n",
    "> 3. `qmin`, `qmax,` `imin`, and `imax` control if and how the inset plot will be scaled and are optional and will not make an inset when set to `None`. The default value for these parameters in None.<br>\n",
    "> 4. `x`, `y`, and `title` indicate the labels to use for the x-axis, y-axis and plot title, respectively. The parameters are optional and will pass generic labels for plots that are common for SAXS data. <br>\n",
    "> 5. The `save`, `save_dir`, and `save_name` are optional and indicate if and where files will be saved. By default, nothing is saved. <br>\n",
    "\n",
    "## Returned Values\n",
    "This function does not return any values\n",
    "\n",
    "## Raised Errors\n",
    "This function does not raise any custom errors. If errors are raised, then refer to the docs for the function cited in the traceback. \n",
    "\n",
    "## Example 1: Basic Usage"
   ]
  },
  {
   "cell_type": "code",
   "execution_count": null,
   "id": "24cec676-39ff-44e1-a406-d36f8e5f83c1",
   "metadata": {},
   "outputs": [],
   "source": [
    "plot_curve(data_arr=data_arr, q_arr=q, labels=files, qmin=0.02, qmax=0.15, \n",
    "           imin=None, imax=None, x='Scattering Vector Å $^{-1}$', y='Scattering Intensity',\n",
    "           title='CH505 TR, T-Jump Difference Curves for 1ms', save=True, save_dir='./OUTPUT/TUTORIAL2/', \n",
    "           save_name='tutorial2_ex1.png')"
   ]
  },
  {
   "cell_type": "markdown",
   "id": "1e6729da-4aa7-477f-913c-9e4c4b6c7754",
   "metadata": {},
   "source": [
    "<br>\n",
    "\n",
    "We passed the previously loaded scattering curves for the 1ms time delay from the example data to be plotted. In this example data set, the feature of interest is between 0.02-0.15 Å$^{-1}$ scattering vector values, so the inset is applied to this q range. The strings for the labels are a bit too long and make viewing the output difficult. To make shorter string values to use for labels you can add a simple loop to build a label list. \n",
    "\n",
    "## Example 2: Adding a label list"
   ]
  },
  {
   "cell_type": "code",
   "execution_count": null,
   "id": "b7ae58c0-a738-49dd-b4b2-73fef82ef498",
   "metadata": {},
   "outputs": [],
   "source": [
    "labs = []\n",
    "for i in files:\n",
    "    labs.append(i[-9:-6])\n",
    "    \n",
    "plot_curve(data_arr=data_arr, q_arr=q, labels=labs, qmin=0.02, qmax=0.15, \n",
    "           imin=None, imax=None, x='Scattering Vector Å $^{-1}$', y='Scattering Intensity',\n",
    "           title='CH505 TR, T-Jump Difference Curves for 1ms', save=True, save_dir='./OUTPUT/TUTORIAL2/', \n",
    "           save_name='tutorial2_ex2.png')"
   ]
  },
  {
   "cell_type": "markdown",
   "id": "4b73350c-77e8-4d26-9c36-d36d9f015ba2",
   "metadata": {},
   "source": [
    "<br>\n",
    "\n",
    "Notice how, after creating a label list, the labels indicate the image # from that dataset. \n",
    "\n",
    "<br>\n",
    "\n",
    "## Example 3: Sorting data before plotting\n",
    "\n",
    "If you would like the curves to be plotted in a sorted manner and are not already sorted, the sorting needs to happen prior to loading the data into arrays. "
   ]
  },
  {
   "cell_type": "code",
   "execution_count": null,
   "id": "fd431611-e0cb-452c-b703-05788a4d5fed",
   "metadata": {},
   "outputs": [],
   "source": [
    "files.sort()\n",
    "\n",
    "data, data_arr, q, err = load_set(flist=files, delim=' ', mask=10, err=False)\n",
    "\n",
    "labs = []\n",
    "for i in files:\n",
    "    labs.append(i[-9:-6])\n",
    "    \n",
    "plot_curve(data_arr=data_arr, q_arr=q, labels=labs, qmin=0.02, qmax=0.15, \n",
    "           imin=None, imax=None, x='Scattering Vector Å $^{-1}$', y='Scattering Intensity',\n",
    "           title='CH505 TR, T-Jump Difference Curves for 1ms', save=True, save_dir='./OUTPUT/TUTORIAL2/', \n",
    "           save_name='tutorial2_ex3.png')"
   ]
  },
  {
   "cell_type": "markdown",
   "id": "dcfc5ede-997b-4afa-8a05-5c55e422f8d6",
   "metadata": {},
   "source": [
    "<div class=\"alert alert-block alert-warning\">\n",
    "    \n",
    "    <i class=\"fa fa-exclamation-triangle\"></i>&nbsp; <b>Remember to sort before loading files</b><br>\n",
    "    If you sort the files after loading them then the file list indices will no longer match the data array indices.\n",
    "    </div>\n"
   ]
  },
  {
   "cell_type": "markdown",
   "id": "6a9481f6-d3c9-4961-aa23-e32308d64189",
   "metadata": {},
   "source": [
    "## Example 4: Looping Over Multiple Time Delays"
   ]
  },
  {
   "cell_type": "code",
   "execution_count": null,
   "id": "0fe3a205-23f8-4f99-b847-18ca8ed21d4a",
   "metadata": {},
   "outputs": [],
   "source": [
    "%time\n",
    "\n",
    "# define time delays as a list of strings\n",
    "times = ['10us', '50us', '100us', '500us', '1ms']\n",
    "\n",
    "# loop over time delay\n",
    "for t in times:\n",
    "    # print dataset \n",
    "    print('\\033[94;1mLoading ' + str(t) + ' curves\\033[94;1m')\n",
    "    \n",
    "    # make file list for t time delay\n",
    "    files = make_flist(directory='../../../TR_T-jump_SAXS_July2022/protein_20hz_set01/processedb/',\n",
    "                  prefix='diff_protein_20hz_set01_' + str(t), suffix='_Q.chi')\n",
    "    \n",
    "    # sort files\n",
    "    files.sort()\n",
    "\n",
    "    # load data\n",
    "    data, data_arr, q, err = load_set(flist=files, delim=' ', mask=10, err=False)\n",
    "\n",
    "    # create labels for plots\n",
    "    labs = []\n",
    "    for i in files:\n",
    "        labs.append(i[-9:-6])\n",
    "    \n",
    "    # plot curves for time delay t\n",
    "    plot_curve(data_arr=data_arr, q_arr=q, labels=labs, qmin=0.02, qmax=0.15, \n",
    "               imin=None, imax=None, x='Scattering Vector Å $^{-1}$', y='Scattering Intensity',\n",
    "               title='CH505 TR, T-Jump Difference Curves for ' + str(t), save=True, \n",
    "               save_dir='./OUTPUT/TUTORIAL2/', \n",
    "               save_name='tutorial2_ex4_' + str(t) + '.png')\n",
    "    \n",
    "print('\\033[92mCompleted plotting analysis!\\033[92m')"
   ]
  },
  {
   "cell_type": "markdown",
   "id": "09d8753a-0507-4116-8682-2d0cb3107487",
   "metadata": {},
   "source": [
    "<div class=\"alert alert-block alert-success\">\n",
    "    \n",
    "    <i class=\"fa fa-check-circle\"></i>&nbsp; <b>Congratulations!</b><br>\n",
    "       You completed the second tutorial! Continue with <a href=\"https://gitlab.oit.duke.edu/tr_t-jump_saxs/y22-23/-/blob/main/TUTORIALS/tutorial3_sys_err.ipynb?ref_type=heads\">Tutorial 3</a> to learn about processing SAXS scattering curves.\n",
    "    </div>"
   ]
  },
  {
   "cell_type": "code",
   "execution_count": null,
   "id": "a1c0ffe0-2eee-460a-bc08-dc2cd77bc49a",
   "metadata": {},
   "outputs": [],
   "source": []
  }
 ],
 "metadata": {
  "kernelspec": {
   "display_name": "Python 3",
   "language": "python",
   "name": "python3"
  },
  "language_info": {
   "codemirror_mode": {
    "name": "ipython",
    "version": 3
   },
   "file_extension": ".py",
   "mimetype": "text/x-python",
   "name": "python",
   "nbconvert_exporter": "python",
   "pygments_lexer": "ipython3",
   "version": "3.8.8"
  }
 },
 "nbformat": 4,
 "nbformat_minor": 5
}

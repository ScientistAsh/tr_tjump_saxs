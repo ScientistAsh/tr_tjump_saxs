{
 "cells": [
  {
   "cell_type": "markdown",
   "id": "d5af4b2e-ff4c-427e-9155-319de16c00ee",
   "metadata": {},
   "source": [
    "# Tutorial 7: Modeling for Time Resolved, Temperature-Jump SAXS Data Analysis\n",
    "\n",
    "**Package Information:**<br>\n",
    "Currently the [tr_tjump_saxs](https://gitlab.oit.duke.edu/tr_t-jump_saxs/y22-23/-/tree/main?ref_type=heads \"tr_tjump_saxs\") package only works through the Python3 command line. The full dependencies can be found on the [Henderson GitLab Page](https://gitlab.oit.duke.edu/tr_t-jump_saxs/y22-23/-/tree/main?ref_type=heads \"tr_tjump_saxs\") and the environment can be cloned from the [environment.yml file](https://gitlab.oit.duke.edu/tr_t-jump_saxs/y22-23/-/blob/main/environment.yml?ref_type=heads \"environment.yml file\"). The data analysis can be executed from an interactive Python command line such as [iPython](https://www.python.org/) or [Jupyter](https://jupyter.org/) or the code can be written in a script to run in a non-interactive mode. The preferred usage is in Jupyter Lab as this is the environment the package was developed in. Jupyter also provides a file where all code, output of code, and notes can be contained in a single file and serves as a record of the data analysis performed, the code used to conduct the data analysis, and the output of the analysis. \n",
    "\n",
    "**Tutorial Information:**<br>\n",
    "This set of tutorial notebooks will cover how to use the `tr_tjump_saxs` package to analyze TR, T-Jump SAXS data and the <a href=\"https://www.science.org/doi/10.1126/sciadv.adj0396\">workflow used to study HIV-1 Envelope glycoprotein dynamics. </a> This package contains multiple modules, each containing a set of functions to accomplish a specific subtask of the TR, T-Jump SAXS data analysis workflow. Many of the functions are modular and some can be helpful for analyzing static SAXS and other data sets as well. \n",
    "\n",
    "**Package Modules:**<br>\n",
    "> 1. `file_handling`<br>\n",
    "> 2. `saxs_processing`<br>\n",
    "> 3. `saxs_qc`<br>\n",
    "> 4. `saxs_kinetics`<br>\n",
    "> 5. `saxs_modeling`<br>\n",
    "\n",
    "**Developer:** \n",
    "Ashley L. Bennett | PhD <br>\n",
    "> GitHub: [@ScientistAsh](https://github.com/ScientistAsh \"ScientistAsh GitHub\") <br>\n",
    "> GitLab: [@ab875](https://gitlab.oit.duke.edu/ab875 \"ab875\") <br>\n",
    "\n",
    "**Updated:** 26 February 2024\n",
    "\n",
    "# Tutorial 7 Introduction\n",
    "In this Tutorial 7 notebook, I introduce the `saxs_modeling` module from the `tr_tjump_saxs` package. The `saxs_modeling` module provides functions that will facilitate developing a plausible model associated with experimental SAXS difference curves. Please note that this module is a work in progress and not all functions have been added to this module at this time. Updates to this module and tutorial will be made in the future. If you find any issues with this tutorial, please create an issue on the repository GitLab page ([tr_tjump_saxs](https://gitlab.oit.duke.edu/tr_t-jump_saxs/y22-23/-/issues \"tr_tjump_saxs Issues\")). \n",
    "\n",
    "## Module functions:\n",
    "> 1. `delta_pr()` uses an interpolation method to determine the difference between two input P(r) curves. <br>\n",
    "\n",
    "## Tutorial Files:\n",
    "\n",
    "### Data Files\n",
    "The original data used in this analysis is deposited on the [SASBDB](https://www.sasbdb.org/) with accession numbers:\n",
    "> **Static Data:** <br>\n",
    "    - *CH505 Temperature Sereies*: SASDT29, SASDT39, SASDT49, SASDT59 <br>\n",
    "    - *CH848 Temperature Series*: SASDTH9, SASDTJ9, SASDTK9, SASDTL9 <br>\n",
    "<br>\n",
    "> **T-Jump Data:** <br>\n",
    "    - *CH505 T-Jump Data*: SASDT69, SASDT79, SASDT89, SASDT99, SASDTA9, SASDTB9, SASDTC9, SASDTD9, SASDTE9, SASDTF9, SASDTG9 <br>\n",
    "     - *CH848 T-Jump Data*: SASDTM9, SASDTN9, SASDTP9, SASDTQ9, SASDTR9, SASDTS9, SASDTT9, SASDTU9, SASDTV9, SASDTW9 <br>\n",
    "<br>\n",
    "> **Static Env SOSIP Panel:** SASDTZ9, SASDU22, SASDU32, SASDU42, SASDTX9, SASDTY9 <br>\n",
    "\n",
    "Additional MD data associated with the paper can be found on [Zenodo](https://zenodo.org/records/10451687).\n",
    "\n",
    "### Output Files\n",
    "Example output is included in the [OUTPUT](https://gitlab.oit.duke.edu/tr_t-jump_saxs/y22-23/-/tree/main/TUTORIALS/OUTPUT?ref_type=heads) subdirectory in the [TUTORIALS](https://gitlab.oit.duke.edu/tr_t-jump_saxs/y22-23/-/tree/main/TUTORIALS?ref_type=heads) directory.  \n",
    "\n",
    "# How to Use Jupyter Notebooks\n",
    "You can execute the code directly in this notebook or create your own notebook and copy the code there."
   ]
  },
  {
   "cell_type": "markdown",
   "id": "c0956c52-a78d-4230-8971-ed7727f61d9c",
   "metadata": {},
   "source": [
    "<div class=\"alert alert-block alert-info\">\n",
    "    \n",
    "    <b><i class=\"fa fa-info-circle\" aria-hidden=\"true\"></i>&nbsp; Tips</b><br>\n",
    "    \n",
    "    <b>1.</b> To run the currently highlighted cell, hit the <code>shift</code> and <code>enter</code> keys at the same time.<br>\n",
    "    <b>2</b>. To get help with a specific function, place the cursor in the functions brackets and hit the <code>shift</code> and <code>tab</code> keys at the same time.\n",
    "\n",
    "</div>"
   ]
  },
  {
   "cell_type": "markdown",
   "id": "546cf85e-bddc-4231-94d0-4ab7c4d9261e",
   "metadata": {},
   "source": [
    "<div class=\"alert alert-block alert-info\" style=\"background-color: white; border: 2px solid; padding: 10px\">\n",
    "    <b><i class=\"fa fa-star\" aria-hidden=\"true\"></i>&nbsp; In the Literature</b><br>\n",
    "    \n",
    "    Our <a href=\"https://www.science.org/doi/10.1126/sciadv.adj0396\">recent paper </a> in Science Advances provides an example of the type of data, the analysis procedure, and example output for this type of data analysis.  <br> \n",
    "    \n",
    "    <p style=\"text-align:center\">\n",
    "    \n",
    "</div>"
   ]
  },
  {
   "cell_type": "markdown",
   "id": "670d0648-03b6-404c-9bbc-f380c86f5901",
   "metadata": {},
   "source": [
    "# Import Modules\n",
    "\n",
    "In order to use the `saxs_modeling` module, the `tr_tjump_saxs` package needs to be imported. The dependecies will automatically be imported with the package import."
   ]
  },
  {
   "cell_type": "code",
   "execution_count": null,
   "id": "57e33547-fd8c-44c1-8f27-319b9ca1b314",
   "metadata": {},
   "outputs": [],
   "source": [
    "# import sys to allow python to use the file browser to find files\n",
    "import sys\n",
    "\n",
    "# append the path for the tr_tjump_saxs_analysis package to the PYTHONPATH\n",
    "sys.path.append(r'../')\n",
    "\n",
    "# import CH505TF_SAXS analysis dependent packages and custom functions\n",
    "from file_handling import *\n",
    "from saxs_processing import *\n",
    "from saxs_qc import *\n",
    "from saxs_kinetics import *\n",
    "from saxs_modeling import *"
   ]
  },
  {
   "cell_type": "markdown",
   "id": "2cb33759-9d0d-46c2-b298-02e98860c980",
   "metadata": {},
   "source": [
    "<div class=\"alert alert-block alert-info\">\n",
    "    <b><i class=\"fa fa-info-circle\" aria-hidden=\"true\"></i>&nbsp; Tips</b><br>\n",
    "    Be sure that the path for the <code>tr_tjump_saxs</code> package appended to the <code>PYTHONPATH</code> matches the path to the repository on your machine.\n",
    "    </div>"
   ]
  },
  {
   "cell_type": "markdown",
   "id": "19d2b539-caec-438c-9b17-732ffc14ba5d",
   "metadata": {},
   "source": [
    "# SAXS Modeling Overview\n",
    "There are many options for how to model SAXS data and the best approach will be dictated by the molecule of interest and the specific questions involved. Structures can be estimated from the SAXS curves and/or SAXS curves can be calculated from structural models. This notebook tutorial will cover the modeling pipeline we used to study [HIV-1 Envelope Glycoprotein structural dynamics](https://www.science.org/doi/10.1126/sciadv.adj0396).\n",
    "\n",
    "The overview of our SAXS modeling pipeline is shown in [Figure 1](#Figure-1). To deterimine an all-atom model of the HIV-1 Env associated with the TR, T-Jump SAXS curves in our recent publication we chose to **build models** of Env in known structural states and calculate the theoretical SAXS curves for each model. We used the software [Modeller](https://salilab.org/modeller/ \"Modeller\") to build homology models using cryo-EM structures as templates. We then used the [FoXS server](https://modbase.compbio.ucsf.edu/foxs/ \"FoXS Server\") to **calculate the theoretical scattering curves** from the atomic models. Alternatively, [CRYSOL from the ATSAS Software Suite](https://www.embl-hamburg.de/biosaxs/software.html \"CRYSOL from the ATSAS Software Suite\") can be used to calculate theoretical scattering curves from the atomic models. CRYSOL offers the advantage that it can be run from the command line and thus can be automated over multiple structures at once. Once the scattering curves for the models are calculated, these **theoretical scattering curves can be fit or matched to experimental static SAXS scattering curves**.\n",
    "\n",
    "Additionally, **pair distance distributions** can be calulcated from both the experimental and theoretical curves using the [ATSAS Software Suite](https://www.embl-hamburg.de/biosaxs/software.html \"ATSAS Software Suite\"). This distribution is the Fourier transform of the scattering intensity and indicates the pairwise distances contributing to the scattering curves. It is helpful to compare the theoretical pair distance distributions with the experimental pair distance distributions when fitting the theoretical SAXS curves to the experimental SAXS cuvres. \n",
    "\n",
    "To relate the atomic models fit to the static SAXS data to TR, T-Jump SAXS curves, **difference curves** need to be determined. The TR, T-Jump SAXS data contains signal indicating movement in the protein. To determine what structural transition is associated with the TR, T-Jump SAXS signal we calculated the difference between theoretical curves from 2 different models and compared to the extracted SVD/REGALS signals determined from the kinetic analysis. To associate pair wise distances involved with these transitions, we calculated the **pair distance distribution differences**. \n",
    "\n",
    "Currently, the `saxs_modeling` module only includes the function to calculate pair distance distribution differences. But more functions to handle more of the modeling pipeline will be added in the future. "
   ]
  },
  {
   "cell_type": "markdown",
   "id": "ecb46f94-7089-4650-bf58-20894bfe57e1",
   "metadata": {},
   "source": [
    "<a id='Figure-1'></a>\n",
    "\n",
    "<img src=\"modeling_workflow.png\" alt=\"SAXS modeling workflow\" width=\"800\" align=\"center\">\n",
    "\n",
    "**Figure 1:** SAXS Modeling Workflow\n"
   ]
  },
  {
   "cell_type": "markdown",
   "id": "26f470b0-d6f4-45fc-8441-75734bc7364a",
   "metadata": {},
   "source": [
    "# Calculate Pair Distance Distribution Difference\n",
    "\n",
    "## Function Overview\n",
    "The `tr_tjump_saxs` package uses an interpolation method to calculate the difference between two given pair distance distribution functions. This interpolation is needed becaue two different pair distance distribution functions do no necessarily have the same x-values and therefore interpolation is required to calculate the difference. The `delta_pr()` function will perform this analysis. \n",
    "\n",
    "## Input Parameters\n",
    "`delta_pr()` has 2 required input parameters and some additional parameters for user control. \n",
    ">1. `curve1` and `curve2` are the only required parameters and indicate the data arrays containing the pair distance distributions to determine the difference for. The difference is calculated as `curve1 - curve2`. <br>\n",
    "> 2. The `delim1` and `delim2` parameters indicate the delimiter used in the files for `curve1` and `curve2`, respectively. <br>\n",
    "> 3. `skip1` and `skip2` indicate the number of rows to skip when loading `curve1` and `curve2`, respectively. <br>\n",
    "> 4. The `kind` parameter indicates the interpolation method to be used. The options for this can be found in the [SciPy docs](https://docs.scipy.org/doc/scipy/reference/generated/scipy.interpolate.interp1d.html). <br>\n",
    ">5. The `fill_value` parameter indicates the method to use for filling in missing values. The options for this setting come from the [SciPy docs](https://docs.scipy.org/doc/scipy/reference/generated/scipy.interpolate.interp1d.html). <br>\n",
    "> 5. The `outfile` parameter indicates if an output file is saved and if so the path and name for the file. The default value for `outfile` is None, which will not save any output data. <br>\n",
    "\n",
    "## Returned Values\n",
    "There are no returned values.\n",
    "\n",
    "## Raised Errors\n",
    "No custom errors raised. Refer to Python documentation for the function indcated in the traceback for any raised errors. \n",
    "\n",
    "## Load Pair Distance Distribution Curves into Data Arrays\n",
    "The files have headers and other data in them so we skip the first 216 or 212 rows for the closed and occluded pair distance distributions, respectively. The number of rows to skip in your files may be different so you will need to check. \n",
    "\n",
    "## Example 1: Basic Usage\n",
    "\n",
    "### Step 1: Load Data"
   ]
  },
  {
   "cell_type": "code",
   "execution_count": null,
   "id": "a3ac4087-5a25-4c9a-bcc7-e8de2a8f700b",
   "metadata": {},
   "outputs": [],
   "source": [
    "# load data\n",
    "closed = np.loadtxt('../../../TR_T-jump_SAXS_July2022/MODELS/3CLOSED/PDDF/CH505TF_Closed-Man9_pr2.out', skiprows=216)\n",
    "occluded = np.loadtxt('../../../TR_T-jump_SAXS_July2022/MODELS/3OPEN_OCCLUDED/PDDF/CH505TF_3OpenOccluded_Man9_pr.out', skiprows=212)"
   ]
  },
  {
   "cell_type": "markdown",
   "id": "e7866bb6-a0cc-4c4b-8751-f84ca86883da",
   "metadata": {},
   "source": [
    "Now that we have the pair distance distributions loaded into numpy arrays, we can calculate the differece. For our modelling we use the closed structure as the reference and subtract this closed pair distance distribution from the occluded pair distance distribution. This pair distance distribution difference corresponds to the HIV-1 Env glycoprotein transition from the closed to the occluded structures.  \n",
    "\n",
    "### Step 2: Calculate $\\Delta$P(r)"
   ]
  },
  {
   "cell_type": "code",
   "execution_count": null,
   "id": "87c6839d-5479-4541-833d-d077191d4dc2",
   "metadata": {},
   "outputs": [],
   "source": [
    "# calculate the difference PDDF\n",
    "dpr = delta_pr(curve1=occluded, curve2=closed, delim1=None, delim2=None, skip1=212, skip2=216, \n",
    "               kind='linear', fill_value='extrapolate', outdir='./OUTPUT/TUTORIAL7/DELTA_PDDF/',\n",
    "               outfile='tutorial7_ex1_step2')"
   ]
  },
  {
   "cell_type": "markdown",
   "id": "e7417a5d-b80e-4a5e-8d9a-516d6215db69",
   "metadata": {},
   "source": [
    "<div class=\"alert alert-block alert-warning\">\n",
    "    \n",
    "    <i class=\"fa fa-exclamation-triangle\"></i>&nbsp; <b>Module Incomplete</b><br>\n",
    "    Currently, this <code>saxs_modeling</code> module is not complete with all the needed functions for modeling SAXS data. Other software currently exists for these functions and was used for the publication of our HIV-1 Env glycoprotein manuscript. We released the code as it was used for the published analysis. However, more functions will be added in the future to provide a more thorough and automated workflow for SAXS modeling analyses. "
   ]
  },
  {
   "cell_type": "markdown",
   "id": "35db9dae-34f6-4f79-90eb-075caee58f59",
   "metadata": {},
   "source": [
    "<div class=\"alert alert-block alert-success\">\n",
    "    \n",
    "    <i class=\"fa fa-check-circle\"></i>&nbsp; <b>Congratulations!</b><br>\n",
    "    You completed the last tutorial. You are now ready to analyze your own TR, T-Jump SAXS experiments!  \n",
    "    </div>"
   ]
  }
 ],
 "metadata": {
  "kernelspec": {
   "display_name": "Python 3",
   "language": "python",
   "name": "python3"
  },
  "language_info": {
   "codemirror_mode": {
    "name": "ipython",
    "version": 3
   },
   "file_extension": ".py",
   "mimetype": "text/x-python",
   "name": "python",
   "nbconvert_exporter": "python",
   "pygments_lexer": "ipython3",
   "version": "3.8.8"
  }
 },
 "nbformat": 4,
 "nbformat_minor": 5
}
